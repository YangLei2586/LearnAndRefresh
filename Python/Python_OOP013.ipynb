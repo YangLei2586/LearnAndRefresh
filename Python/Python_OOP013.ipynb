{
 "cells": [
  {
   "cell_type": "code",
   "execution_count": 4,
   "metadata": {},
   "outputs": [
    {
     "name": "stdout",
     "output_type": "stream",
     "text": [
      "[0 1 2]\n",
      "[3 4 5 6]\n",
      "[7 8 9]\n",
      "[array([0, 1, 2]) array([3, 4, 5, 6]) array([7, 8, 9])]\n",
      "[0 1 2 3 4 5 6 7 8 9]\n",
      "[0 1 2 3 4 5 6 7 8 9]\n"
     ]
    },
    {
     "name": "stderr",
     "output_type": "stream",
     "text": [
      "<ipython-input-4-9b0606ad0cbe>:11: VisibleDeprecationWarning: Creating an ndarray from ragged nested sequences (which is a list-or-tuple of lists-or-tuples-or ndarrays with different lengths or shapes) is deprecated. If you meant to do this, you must specify 'dtype=object' when creating the ndarray\n",
      "  a4 = np.array([a1,a2,a3])\n"
     ]
    }
   ],
   "source": [
    "import numpy as np\n",
    "#43 convert an array of arrays into a flat 1d array\n",
    "url = 'https://archive.ics.uci.edu/ml/machine-learning-databases/iris/iris.data'\n",
    "iris = np.genfromtxt(url,delimiter=',', dtype='object')\n",
    "a1 = np.arange(3)\n",
    "print(a1)\n",
    "a2 = np.arange(3,7)\n",
    "print(a2)\n",
    "a3 = np.arange(7,10)\n",
    "print(a3)\n",
    "a4 = np.array([a1,a2,a3])\n",
    "print(a4)\n",
    "a5 = np.array([ a for arr in a4 for a in arr])\n",
    "print(a5)\n",
    "a6 = np.concatenate(a4)\n",
    "print(a6)"
   ]
  },
  {
   "cell_type": "code",
   "execution_count": 5,
   "metadata": {},
   "outputs": [
    {
     "name": "stdout",
     "output_type": "stream",
     "text": [
      "[2 3 2 2 2 1]\n"
     ]
    }
   ],
   "source": [
    "#44 generate one-hot encodings for an array in numpy\n",
    "np.random.seed(101)\n",
    "a7 = np.random.randint(1,4,size=6)\n",
    "print(a7)"
   ]
  },
  {
   "cell_type": "code",
   "execution_count": 6,
   "metadata": {},
   "outputs": [
    {
     "data": {
      "text/plain": [
       "array([[0., 1., 0.],\n",
       "       [0., 0., 1.],\n",
       "       [0., 1., 0.],\n",
       "       [0., 1., 0.],\n",
       "       [0., 1., 0.],\n",
       "       [1., 0., 0.]])"
      ]
     },
     "execution_count": 6,
     "metadata": {},
     "output_type": "execute_result"
    }
   ],
   "source": [
    "def one_hot_encodings(a7):\n",
    "    uniqs = np.unique(a7)\n",
    "    out = np.zeros((a7.shape[0], uniqs.shape[0]))   # meaning?\n",
    "    for i, k in enumerate(a7):\n",
    "        out[i, k-1] = 1                             # meaning?\n",
    "    return out\n",
    "\n",
    "one_hot_encodings(a7)"
   ]
  },
  {
   "cell_type": "code",
   "execution_count": 8,
   "metadata": {},
   "outputs": [
    {
     "data": {
      "text/plain": [
       "array(['Iris-setosa', 'Iris-setosa', 'Iris-setosa', 'Iris-setosa',\n",
       "       'Iris-setosa', 'Iris-setosa', 'Iris-versicolor', 'Iris-versicolor',\n",
       "       'Iris-versicolor', 'Iris-versicolor', 'Iris-versicolor',\n",
       "       'Iris-versicolor', 'Iris-virginica', 'Iris-virginica',\n",
       "       'Iris-virginica', 'Iris-virginica', 'Iris-virginica',\n",
       "       'Iris-virginica', 'Iris-virginica', 'Iris-virginica'], dtype='<U15')"
      ]
     },
     "execution_count": 8,
     "metadata": {},
     "output_type": "execute_result"
    }
   ],
   "source": [
    "#45 create row numbers grouped by a categorical variable> meaning?\n",
    "url = 'https://archive.ics.uci.edu/ml/machine-learning-databases/iris/iris.data'\n",
    "species = np.genfromtxt(url,delimiter=',', dtype='str', usecols=4)\n",
    "species_small = np.sort(np.random.choice(species, size=20))\n",
    "species_small"
   ]
  },
  {
   "cell_type": "code",
   "execution_count": 9,
   "metadata": {},
   "outputs": [
    {
     "name": "stdout",
     "output_type": "stream",
     "text": [
      "[0, 1, 2, 3, 4, 5, 0, 1, 2, 3, 4, 5, 0, 1, 2, 3, 4, 5, 6, 7]\n"
     ]
    }
   ],
   "source": [
    "print([i for val in np.unique(species_small) for i, grp in enumerate(species_small[species_small==val])])"
   ]
  },
  {
   "cell_type": "code",
   "execution_count": 11,
   "metadata": {},
   "outputs": [
    {
     "name": "stdout",
     "output_type": "stream",
     "text": [
      "[0, 0, 0, 0, 0, 0, 1, 1, 1, 1, 1, 1, 2, 2, 2, 2, 2, 2, 2, 2]\n",
      "[0, 0, 0, 0, 0, 0, 1, 1, 1, 1, 1, 1, 2, 2, 2, 2, 2, 2, 2, 2]\n"
     ]
    }
   ],
   "source": [
    "#46 create group id based on a given categorical variable\n",
    "url = 'https://archive.ics.uci.edu/ml/machine-learning-databases/iris/iris.data'\n",
    "species = np.genfromtxt(url,delimiter=',', dtype='str', usecols=4)\n",
    "species_small = np.sort(np.random.choice(species, size=20))\n",
    "species_small\n",
    "# method 1\n",
    "output1 = [np.argwhere(np.unique(species_small) == s).tolist()[0][0] for val in np.unique(species_small) for s in species_small[species_small==val]]\n",
    "print(output1)\n",
    "# method 2\n",
    "output2 = []\n",
    "uniqs = np.unique(species_small)\n",
    "\n",
    "for val in uniqs: # uniq values in group\n",
    "    for s in species_small[species_small==val]: # each element in group\n",
    "        groupid = np.argwhere(uniqs == s).tolist()[0][0] # groupid\n",
    "        output2.append(groupid)\n",
    "\n",
    "print(output2)"
   ]
  },
  {
   "cell_type": "code",
   "execution_count": 15,
   "metadata": {},
   "outputs": [
    {
     "name": "stdout",
     "output_type": "stream",
     "text": [
      "[ 9  4 15  0 17 16 17  8  9  0]\n",
      "[3 9 1 7 0 8 2 5 4 6]\n"
     ]
    }
   ],
   "source": [
    "#47 create rank items in an array\n",
    "np.random.seed(10)\n",
    "a8 = np.random.randint(20, size=10)\n",
    "print(a8)\n",
    "print(a8.argsort())"
   ]
  },
  {
   "cell_type": "code",
   "execution_count": 17,
   "metadata": {},
   "outputs": [
    {
     "name": "stdout",
     "output_type": "stream",
     "text": [
      "[[ 9  4 15  0 17]\n",
      " [16 17  8  9  0]]\n",
      "[[4 2 6 0 8]\n",
      " [7 9 3 5 1]]\n"
     ]
    }
   ],
   "source": [
    "#48 rank items in a multidimentional array \n",
    "np.random.seed(10)\n",
    "a9 = np.random.randint(20,size=[2,5])\n",
    "print(a9)\n",
    "print(a9.ravel().argsort().argsort().reshape(a9.shape))"
   ]
  },
  {
   "cell_type": "code",
   "execution_count": 25,
   "metadata": {},
   "outputs": [
    {
     "name": "stdout",
     "output_type": "stream",
     "text": [
      "[[9 9 4]\n",
      " [8 8 1]\n",
      " [5 3 6]\n",
      " [3 3 3]\n",
      " [2 1 9]]\n",
      "[9 8 6 3 9]\n",
      "[9 8 6 3 9]\n"
     ]
    }
   ],
   "source": [
    "#49 find the maximum value in each row of a 2d array\n",
    "np.random.seed(100)\n",
    "a10 = np.random.randint(1,10,[5,3])\n",
    "print(a10)\n",
    "print(np.amax(a10, axis=1))\n",
    "print(np.apply_along_axis(np.max, arr=a10, axis=1))"
   ]
  },
  {
   "cell_type": "code",
   "execution_count": 28,
   "metadata": {},
   "outputs": [
    {
     "name": "stdout",
     "output_type": "stream",
     "text": [
      "[[9 9 4]\n",
      " [8 8 1]\n",
      " [5 3 6]\n",
      " [3 3 3]\n",
      " [2 1 9]]\n",
      "[0.44444444 0.125      0.5        1.         0.11111111]\n"
     ]
    }
   ],
   "source": [
    "#50 compute the min_by_max for each row for a numpy 2d array\n",
    "np.random.seed(100)\n",
    "a11 = np.random.randint(1,10,[5,3])\n",
    "print(a11)\n",
    "output = np.apply_along_axis(lambda x: np.min(x)/np.max(x), arr=a10, axis=1)\n",
    "print(output)"
   ]
  },
  {
   "cell_type": "code",
   "execution_count": 31,
   "metadata": {},
   "outputs": [
    {
     "name": "stdout",
     "output_type": "stream",
     "text": [
      "Array: [0 0 3 0 2 4 2 2 2 2]\n",
      "[False  True False  True False False  True  True  True  True]\n"
     ]
    }
   ],
   "source": [
    "#51 find the duplicate records in a numpy array\n",
    "np.random.seed(100)\n",
    "a12 = np.random.randint(0,5,10)\n",
    "print('Array:', a12)\n",
    "out = np.full(a12.shape[0], True)\n",
    "unique_positions = np.unique(a12, return_index=True)[1]\n",
    "out[unique_positions] = False # why false\n",
    "print(out)"
   ]
  },
  {
   "cell_type": "code",
   "execution_count": 36,
   "metadata": {},
   "outputs": [
    {
     "name": "stdout",
     "output_type": "stream",
     "text": [
      "[[b'Iris-setosa', 3.418], [b'Iris-versicolor', 2.7700000000000005], [b'Iris-virginica', 2.974]]\n",
      "[[b'Iris-setosa', 3.418], [b'Iris-versicolor', 2.7700000000000005], [b'Iris-virginica', 2.974]]\n"
     ]
    }
   ],
   "source": [
    "#52 find the mean of a numeric column grouped by a categorical column in a 2d numpy array\n",
    "url = 'https://archive.ics.uci.edu/ml/machine-learning-databases/iris/iris.data'\n",
    "iris = np.genfromtxt(url,delimiter=',', dtype='object')\n",
    "name = ('sepallength', 'sepalwidth', 'petallength','patalwidth','species')\n",
    "# method 1\n",
    "numeric_column = iris[:,1].astype('float')   # sepalwidth\n",
    "grouping_column = iris[:,4]                  # species\n",
    "output2 = [[group_val, numeric_column[grouping_column==group_val].mean()] for group_val in np.unique(grouping_column)]\n",
    "print(output2)\n",
    "# method 2\n",
    "output3 = []\n",
    "for group_val in np.unique(grouping_column):\n",
    "    output3.append([group_val, numeric_column[grouping_column==group_val].mean()])\n",
    "print(output3)"
   ]
  }
 ],
 "metadata": {
  "kernelspec": {
   "display_name": "Python 3",
   "language": "python",
   "name": "python3"
  },
  "language_info": {
   "codemirror_mode": {
    "name": "ipython",
    "version": 3
   },
   "file_extension": ".py",
   "mimetype": "text/x-python",
   "name": "python",
   "nbconvert_exporter": "python",
   "pygments_lexer": "ipython3",
   "version": "3.8.5"
  }
 },
 "nbformat": 4,
 "nbformat_minor": 4
}
