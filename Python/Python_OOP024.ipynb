{
 "cells": [
  {
   "cell_type": "code",
   "execution_count": null,
   "metadata": {},
   "outputs": [],
   "source": [
    "# Array003 Rotate array to the right by k steps  1) no idea which function for rotating 2) steps \n",
    "# s1 brute force\n",
    "def rotate(self,nums,k):\n",
    "    k %= len(nums)\n",
    "    \n",
    "    for i in range(k):\n",
    "        previous = nums[-1]\n",
    "        for j in range(len(nums)):\n",
    "            nums[j],previous= previous,nums[j]"
   ]
  },
  {
   "cell_type": "code",
   "execution_count": null,
   "metadata": {},
   "outputs": [],
   "source": [
    "# s2 using extra array \n",
    "def rotate2(self,nums,k):\n",
    "    n = len(nums)\n",
    "    a = [0]*n\n",
    "    for i in range(n):\n",
    "        a[(i+k)%n] =  nums[i]\n",
    "        \n",
    "    nums[:]=a"
   ]
  },
  {
   "cell_type": "code",
   "execution_count": null,
   "metadata": {},
   "outputs": [],
   "source": [
    "# s3 using cyclic replacements\n",
    "def rotate3(self, nums,k):\n",
    "    n = len(nums)\n",
    "    k%=n\n",
    "    \n",
    "    start = count =0\n",
    "    while count<n:\n",
    "        current, prev = start, nums[start]\n",
    "        while True:\n",
    "            next_idx = (current+k)%n\n",
    "            nums[next_idx],prev = prev,nums[next_idx]\n",
    "            current = next_idx\n",
    "            count += 1\n",
    "            \n",
    "            if start == current:\n",
    "                break\n",
    "        start += 1\n",
    "            "
   ]
  },
  {
   "cell_type": "code",
   "execution_count": null,
   "metadata": {},
   "outputs": [],
   "source": [
    "# s4 using reverse \n",
    "def reverse(self,nums,start,end):\n",
    "    while start<end:\n",
    "        nums[start],nums[end] = nums[end],nums[start]\n",
    "        start,end = start+1, end-1 \n",
    "\n",
    "def rotate4(self,nums,k):\n",
    "    n=len(nums)\n",
    "    k%=n\n",
    "    \n",
    "    self.reverse(nums,0,n-1)\n",
    "    self.reverse(nums,0,k-1)\n",
    "    self.reverse(nums,0,n-1)\n",
    "    "
   ]
  },
  {
   "cell_type": "code",
   "execution_count": null,
   "metadata": {},
   "outputs": [],
   "source": [
    "def rotate5(self,nums,k):\n",
    "    n=len(nums)\n",
    "    k=k%n\n",
    "    nums[:]=nums[n-k:]+nums[:n-k]"
   ]
  },
  {
   "cell_type": "code",
   "execution_count": null,
   "metadata": {},
   "outputs": [],
   "source": [
    "# Dupliacted element contained or not detect in an array\n",
    "def containsDuplicates(self,nums):\n",
    "    return True if len(set(nums))<len(nums) else False"
   ]
  },
  {
   "cell_type": "code",
   "execution_count": null,
   "metadata": {},
   "outputs": [],
   "source": [
    "def containsDuplicates2(self,nums):\n",
    "    c = collections.Counter(nums)\n",
    "    return any(c[k]>1 for k in c.keys())\n",
    "    return len(set(nums))!=len(nums)"
   ]
  },
  {
   "cell_type": "code",
   "execution_count": 10,
   "metadata": {},
   "outputs": [],
   "source": [
    "# Find single number every element appears twice except for one\n",
    "#s1 list operation\n",
    "def singleNumber(self,nums):\n",
    "    no_duplicate_list=[]\n",
    "    for i in nums:\n",
    "        if i not in no_duplicate_list:\n",
    "            no_duplicate_list.append(i)\n",
    "        else:\n",
    "            np_duplicate_list.remove(i)\n",
    "    return no_duplicate_list.pop()"
   ]
  },
  {
   "cell_type": "code",
   "execution_count": 11,
   "metadata": {},
   "outputs": [],
   "source": [
    "#s2 using hash table to avoid O(n) time complexity \n",
    "from collections import defaultdict\n",
    "\n",
    "def singleNumber2(self,nums):\n",
    "    hash_table = defaultdict(int)\n",
    "    for i in nums:\n",
    "        hash_table[i] += 1\n",
    "        \n",
    "    for i in hash_table:\n",
    "        if hash_table[i] == 1:\n",
    "            return i"
   ]
  },
  {
   "cell_type": "code",
   "execution_count": 12,
   "metadata": {},
   "outputs": [],
   "source": [
    "# find intersection fo two arrays\n",
    "def intersect(self,nums1,nums2):\n",
    "    a,b = map(collections.Counter,(nums1,nums2))\n",
    "    return list((a&b).elements())\n",
    "\n",
    "def intersect1(self,nums1,nums2):\n",
    "    c = collections.Counter\n",
    "    return list((c(nums1)&c(nums2)).elements())\n",
    "def intersect2(self,nums1,nums2):\n",
    "    return list((collections.Counter(nums1)&collections.Counter(nums2)).elements())"
   ]
  },
  {
   "cell_type": "code",
   "execution_count": 13,
   "metadata": {},
   "outputs": [],
   "source": [
    "def intersect3(self,nums1,nums2):\n",
    "    i=0\n",
    "    j=0\n",
    "    res=[]\n",
    "    nums1.sort()\n",
    "    nums2.sort()\n",
    "    while(i<len(nums1) and j<len(nums2)):\n",
    "        if nums1[i] < nums2[j]:\n",
    "            i += 1\n",
    "            continue\n",
    "        if nums1[j] > nums2[i]:\n",
    "            j += 1\n",
    "            continue\n",
    "        res.append(nums1[i])\n",
    "        i += 1\n",
    "        j += 1\n",
    "    return res"
   ]
  },
  {
   "cell_type": "code",
   "execution_count": 14,
   "metadata": {},
   "outputs": [],
   "source": [
    "def intersect4(self,nums1,nums2):\n",
    "    result=[]\n",
    "    for i in range(len(nums1)):\n",
    "        if nums1[i] in nums2:\n",
    "            nums2.remove(nums1[i])\n",
    "            result.append(nums1[i])\n",
    "    return result"
   ]
  },
  {
   "cell_type": "code",
   "execution_count": 17,
   "metadata": {},
   "outputs": [],
   "source": [
    "from collections import Counter\n",
    "def intersect5(self,nums1,nums2):\n",
    "    c1 = collections.Counter(nums1)\n",
    "    c2 = collections.Counter(nums2)\n",
    "    c3 = c1&c2\n",
    "    return list(c3.elements())"
   ]
  },
  {
   "cell_type": "code",
   "execution_count": 18,
   "metadata": {},
   "outputs": [],
   "source": [
    "# plus one to the integer \n",
    "def plusOne(self,digits):\n",
    "    n = len(digits)\n",
    "    \n",
    "    for i in range(n):\n",
    "        idx = n - 1 - i\n",
    "        if digits[idx]==9:\n",
    "            digits[idx]=0\n",
    "        else:\n",
    "            digits[idx] += 1\n",
    "            return digits\n",
    "    return [1] + digits"
   ]
  },
  {
   "cell_type": "code",
   "execution_count": 19,
   "metadata": {},
   "outputs": [],
   "source": [
    "# move zeros to the end of array while maintaining the relative order of the non zero elements\n",
    "def moveZeroes(self,nums):\n",
    "    zero = 0\n",
    "    for i in range(len(nums)):\n",
    "        if nums[i] != 0:\n",
    "            nums[i],nums[zero] = nums[zero],nums[i]\n",
    "            zero += 1"
   ]
  },
  {
   "cell_type": "code",
   "execution_count": 20,
   "metadata": {},
   "outputs": [],
   "source": [
    "def moveZeroes2(self,nums):\n",
    "    return nums.sort(key=lambda x:1 if x==0 else 0)"
   ]
  },
  {
   "cell_type": "code",
   "execution_count": 21,
   "metadata": {},
   "outputs": [],
   "source": [
    "def moveZeroes3(self,nums):\n",
    "    for n in range(len(nums)-1,-1,-1):\n",
    "        if(nums[n]==0):\n",
    "            nums.append(nums.pop(n))"
   ]
  },
  {
   "cell_type": "code",
   "execution_count": 22,
   "metadata": {},
   "outputs": [],
   "source": [
    "def moveZeroes4(self,nums):\n",
    "    l,r = 0,0\n",
    "    while r<len(nums):\n",
    "        if nums[l] == 0:\n",
    "            if nums[r] != 0:\n",
    "                nums[l],nums[r] = nums[r],nums[l]\n",
    "                l += 1\n",
    "                r += 1\n",
    "            else:\n",
    "                r += 1\n",
    "        else:\n",
    "            l += 1\n",
    "            r += 1\n",
    "    "
   ]
  },
  {
   "cell_type": "code",
   "execution_count": 23,
   "metadata": {},
   "outputs": [],
   "source": [
    "# Two sum return idices of the two numbers such that they add up to target 1) express x and y 2) express condition \n",
    "def twoSum(self,nums,target):\n",
    "    h={}\n",
    "    for i, num in enumerate(nums):\n",
    "        n = target - num \n",
    "        if n not in h:\n",
    "            h[num]=i\n",
    "        else:\n",
    "            return [h[n],i]\n",
    "        \n"
   ]
  },
  {
   "cell_type": "code",
   "execution_count": 24,
   "metadata": {},
   "outputs": [],
   "source": [
    "def twoSum2(self,nums, target):\n",
    "    seen = {}\n",
    "    res = []\n",
    "    for i, value in enumerate(nums):\n",
    "        remaining = target - nums[i]\n",
    "        \n",
    "        if remaining in seen:\n",
    "            res.append([value,remaining])\n",
    "        else:\n",
    "            seen[value]=i\n",
    "    return res"
   ]
  },
  {
   "cell_type": "code",
   "execution_count": 25,
   "metadata": {},
   "outputs": [],
   "source": [
    "def twoSum3(self,nums):\n",
    "    for index,num in enumerate(nums):\n",
    "        for other_index, other_num in enumerate(nums):\n",
    "            if num + other_num == target and index != other_index:\n",
    "                return [index,other_index]"
   ]
  },
  {
   "cell_type": "code",
   "execution_count": null,
   "metadata": {},
   "outputs": [],
   "source": []
  }
 ],
 "metadata": {
  "kernelspec": {
   "display_name": "Python 3",
   "language": "python",
   "name": "python3"
  },
  "language_info": {
   "codemirror_mode": {
    "name": "ipython",
    "version": 3
   },
   "file_extension": ".py",
   "mimetype": "text/x-python",
   "name": "python",
   "nbconvert_exporter": "python",
   "pygments_lexer": "ipython3",
   "version": "3.8.5"
  }
 },
 "nbformat": 4,
 "nbformat_minor": 4
}
