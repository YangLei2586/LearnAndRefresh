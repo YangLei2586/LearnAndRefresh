{
 "cells": [
  {
   "cell_type": "code",
   "execution_count": null,
   "metadata": {},
   "outputs": [],
   "source": [
    "import pandas as pd\n",
    "import numpy as np\n",
    "#26 compute euclidean distance between two series \n",
    "p = pd.Series([1,2,3,4,5,6,7,8,9,10])\n",
    "q = pd.Series([10,9,8,7,6,5,4,3,2,1])\n",
    "print(sum((p - q)**2)**0.5)\n",
    "print(np.linalg.norm(p-q))"
   ]
  },
  {
   "cell_type": "code",
   "execution_count": null,
   "metadata": {},
   "outputs": [],
   "source": [
    "#27 find all the local maxima or peaks in a numeric series \n",
    "ser = pd.Series([2,10,3,4,9,10,2,7,3])\n",
    "# method 1\n",
    "dd = np.diff(np.sign(np.diff(ser)))\n",
    "peak_locs = np.where(dd==-2)[0] + 1\n",
    "peak_locs"
   ]
  },
  {
   "cell_type": "code",
   "execution_count": null,
   "metadata": {},
   "outputs": [],
   "source": [
    "#28 replace missing spaces in a string with least frequent character\n",
    "my_str =  'dbc deb abed gade'\n",
    "ser = pd.Series(list(my_str))\n",
    "freq = ser.value_counts()\n",
    "print(freq)\n",
    "least_freq = freq.dropna().index[-1]\n",
    "\n",
    "\"\".join(ser.replace(' ', least_freq)) # space within '' maters, what does starting \" \" mean?"
   ]
  },
  {
   "cell_type": "code",
   "execution_count": null,
   "metadata": {},
   "outputs": [],
   "source": [
    "#29 create a TimeSeries starting '2000-01-01' and 10 weekends[saturadays] after that having random numbers as values\n",
    "ser = pd.Series(pd.date_range('2000-01-01', periods=10, freq='W-SAT'))\n",
    "print(ser)\n",
    "ser1 = pd.Series(np.random.randint(1,10,10), pd.date_range('2000-01-01', periods=10, freq='W-SAT'))\n",
    "print(ser1)"
   ]
  },
  {
   "cell_type": "code",
   "execution_count": null,
   "metadata": {},
   "outputs": [],
   "source": [
    "#30 fill an intermittent time series so all missing dates show up with values of previous non-missing date\n",
    "ser = pd.Series([1,10,3,np.nan], index=pd.to_datetime(['2000-01-01','2000-01-03','2000-01-06','2000-01-08']))\n",
    "print(ser)\n",
    "ser3 = ser.resample('D').ffill()                 # fill with a valid pervious sample\n",
    "print(ser3)\n",
    "ser4 = ser.resample('D').bfill()                 # fill with a next valid sample\n",
    "print(ser4)\n",
    "ser5 = ser.resample('D').bfill().ffill()         # fll next else prev value\n",
    "print(ser5)"
   ]
  },
  {
   "cell_type": "code",
   "execution_count": null,
   "metadata": {},
   "outputs": [],
   "source": [
    "#31 compute the autocorrelations of a numeric series \n",
    "ser = pd.Series(np.arange(20) + np.random.normal(1,10,20))\n",
    "autocorrelations = [ser.autocorr(i).round(2) for i in range(11)]\n",
    "print(autocorrelations[1:])\n",
    "print('Lag having highest correlation:', np.argmax(np.abs(autocorrelations[1:])) + 1)"
   ]
  },
  {
   "cell_type": "code",
   "execution_count": null,
   "metadata": {},
   "outputs": [],
   "source": [
    "#32 import only every nth row from a csv file to create a dataframe\n",
    "# import every 50th row of BostonHousing dataset as a dataframe\n",
    "\n",
    "df= pd.read_csv('https://raw.githubusercontent.com/selva86/datasets/master/BostonHousing.csv',chunksize=50)\n",
    "df2 = pd.DataFrame()\n",
    "import csv\n",
    "with open('BostonHousing.csv', 'r') as f:\n",
    "    reader = csv.reader(f)\n",
    "    out = []\n",
    "    for i, row in enumerate(reader):\n",
    "        if i%50 == 0:\n",
    "            out.append(row)\n",
    "\n",
    "df2 = pd.DataFrame(out[1:], columns=out[0])\n",
    "print(df2.head())"
   ]
  },
  {
   "cell_type": "code",
   "execution_count": null,
   "metadata": {},
   "outputs": [],
   "source": [
    "#33 create a dataframe with rows as strides from a given series\n",
    "L = pd.Series(range(15))\n",
    "def gen_strides(a, stride_len=5, window_len=5):\n",
    "    n_strides = ((a.size-window_len)//stride_len) + 1\n",
    "    return np.array([a[s:(s+window_len)] for s in np.arange(0,a.size,stride_len)[:n_strides]])\n",
    "\n",
    "gen_strides(L, stride_len=2, window_len=4)"
   ]
  },
  {
   "cell_type": "code",
   "execution_count": null,
   "metadata": {},
   "outputs": [],
   "source": [
    "#34 get the n rows n columns, datatype, summary stats of each column of a dataframe and also get the array and list equivalent\n",
    "df = pd.read_csv('https://raw.githubusercontent.com/selva86/datasets/master/Cars93_miss.csv')\n",
    "# number of rows and columns\n",
    "print(df.shape)\n",
    "# datatypes\n",
    "print(df.dtypes)\n",
    "# how many columns under each dtype\n",
    "print(df.dtypes.value_counts())\n",
    "# summary statistics\n",
    "df_stats = df.describe()\n",
    "# numpy array\n",
    "df_arr = df.values\n",
    "# list\n",
    "df_list = df.values.tolist()\n"
   ]
  },
  {
   "cell_type": "code",
   "execution_count": null,
   "metadata": {},
   "outputs": [],
   "source": [
    "#35 extract the row and column number of a particular cell with given criterion\n",
    "df=pd.read_csv('https://raw.githubusercontent.com/selva86/datasets/master/Cars93_miss.csv')\n",
    "# get manufacturer with highest price\n",
    "df.loc[df.price==np.max(df.Price),['Manufacture','Model','Type']]\n",
    "# Get row and column number\n",
    "row. col = np.where(df.values==np.max(df.Price))\n",
    "# get the values\n",
    "df.iat[row[0],col[0]]\n",
    "df.iloc[row[0],col[0]]"
   ]
  },
  {
   "cell_type": "code",
   "execution_count": null,
   "metadata": {
    "scrolled": true
   },
   "outputs": [],
   "source": [
    "#36 count the number of missing values in each column\n",
    "n_missing_each_col = df.apply(lambda x: x.isnull().sum())\n",
    "n_missing_each_col.argmax()"
   ]
  },
  {
   "cell_type": "code",
   "execution_count": null,
   "metadata": {},
   "outputs": [],
   "source": [
    "#37 replace missing values of multiple numeric columns with the mean \n",
    "df_out = df[['Mix.Price','Max.Price']] = df[['Mix.Price,'Max.Price']].apply(lambda x: x.fillna(x.mean()))"
   ]
  },
  {
   "cell_type": "code",
   "execution_count": null,
   "metadata": {},
   "outputs": [],
   "source": [
    "#38 change the order of columns of a dataframe\n",
    "df = pd.DataFrame(np.arange(20).reshape(-1,5), columns=list('adcde'))\n",
    "print(df)\n",
    "def switch_columns(df, col1=None, col2=None):\n",
    "    colnames = df.columns.tolist()\n",
    "    i1,i2 = colnames.index(col1), colnames.index(col2)\n",
    "    colnames[i2], colnames[i1] = colnames[i1], colnames[i2]\n",
    "    return df[colnames]\n",
    "\n",
    "df1 = switch_columns(df,'a','c')\n",
    "print(df1)"
   ]
  },
  {
   "cell_type": "code",
   "execution_count": null,
   "metadata": {},
   "outputs": [],
   "source": [
    "def switch_columns(df,col1=None, col2=None):\n",
    "    colnames = df.columns.tolist()\n",
    "    i1, i2 = colnames.index(col1), colnames.index(col2)\n",
    "    colnames[i2], colnames[i1] = colnames[i1], colnames[i2]\n",
    "    return df[colnames]"
   ]
  },
  {
   "cell_type": "code",
   "execution_count": null,
   "metadata": {},
   "outputs": [],
   "source": [
    "def switch_columns(df,col1=None, col2=None):\n",
    "    colnames = df.columns.tolist()\n",
    "    i1, i2 = colnames.index(col1), colnames.index(col2)\n",
    "    colnames[i2], colnames[i1] = colnames[i1], colnames[i2]\n",
    "    return df[colnames]\n",
    "\n",
    "print(df)\n",
    "df2 = switch_columns(df, 'a', 'd')\n",
    "print(df2)"
   ]
  },
  {
   "cell_type": "code",
   "execution_count": null,
   "metadata": {},
   "outputs": [],
   "source": [
    "#39 set the number of rows and columns displayed in the output\n",
    "pd.set_option('display.max_columns',10)\n",
    "pd.set_option('display.max_rows',10)"
   ]
  },
  {
   "cell_type": "code",
   "execution_count": null,
   "metadata": {},
   "outputs": [],
   "source": [
    "#40 format or suppress scientific notations in a pandas dataframe\n",
    "df = pd.DataFrame(np.random.random(4)**10, columns=['random'])\n",
    "df\n",
    "df.round(4)\n",
    "df.applymap(lambda x: '%.4f' %x)\n",
    "pd.set_option('display.float_format', lambda x: '%.4f' %x)\n",
    "pd.options.display.float_format = '{:.4f}'.format\n",
    "print(df)"
   ]
  },
  {
   "cell_type": "code",
   "execution_count": null,
   "metadata": {},
   "outputs": [],
   "source": [
    "#41 format all the values in dataframe as percentages\n",
    "out = df.style.format({'random': '{0:.2%}'.format})\n",
    "out"
   ]
  },
  {
   "cell_type": "code",
   "execution_count": null,
   "metadata": {},
   "outputs": [],
   "source": [
    "#42 filter every nth row in a dataframe> filter the 'Manufacturer', 'Model','Type' for every 20th row \n",
    "df.iloc[::20, :][[\"Manufactures\",\"Model\",\"Type\"]]"
   ]
  },
  {
   "cell_type": "code",
   "execution_count": null,
   "metadata": {},
   "outputs": [],
   "source": [
    "#43 find the position of nth largest value greater than a given value\n",
    "# find the position of the 2nd largest value greater than the mean\n",
    "ser = pd.Series(np.random.randint(1,100,15))\n",
    "print('ser:', ser.tolist(), 'mean:', round(ser.mean()))\n",
    "np.argwhere(ser > ser.mean())[1]"
   ]
  },
  {
   "cell_type": "code",
   "execution_count": null,
   "metadata": {},
   "outputs": [],
   "source": [
    "#44 get the last 2(n) rows of a dataframe with row sum > 100\n",
    "df = pd.DataFrame(np.random.randint(10,40,60).reshape(-1,4))\n",
    "rowsums = df.apply(np.sum, axis=1)\n",
    "last_two_rows = df.iloc[np.where(rowsums>100)[0][-2:],:]\n",
    "print(last_two_rows)"
   ]
  },
  {
   "cell_type": "code",
   "execution_count": null,
   "metadata": {},
   "outputs": [],
   "source": [
    "#45 find and cap outliers from a series or dataframe column> replace  lower 5% and greater 95% \n",
    "ser = pd.Series(np.logspace(-2,2,30))\n",
    "def cap_outliers(ser,low_perc, high_perc):\n",
    "    low, high = ser.quantile(low_perc, high_perc)\n",
    "    print(low_perc, '%ile:', low, '|', high_perc, '%ile:', high)\n",
    "    ser[ser < low] = low\n",
    "    ser[ser > high] = high\n",
    "    return(ser)\n",
    "\n",
    "capped_ser = cap_outliers(ser,0.05, 0.95)"
   ]
  },
  {
   "cell_type": "code",
   "execution_count": 49,
   "metadata": {},
   "outputs": [
    {
     "name": "stdout",
     "output_type": "stream",
     "text": [
      "    0   1   2   3   4\n",
      "0   0   1   2   3   4\n",
      "1   5   6   7   8   9\n",
      "2  10  11  12  13  14\n",
      "3  15  16  17  18  19\n",
      "4  20  21  22  23  24\n",
      "    0   1   2   3   4\n",
      "0   0   1   2   3   4\n",
      "1  10  11  12  13  14\n",
      "2   5   6   7   8   9\n",
      "3  15  16  17  18  19\n",
      "4  20  21  22  23  24\n"
     ]
    }
   ],
   "source": [
    "#46 swap two rows of a dataframe\n",
    "df = pd.DataFrame(np.arange(25).reshape(5,-1))\n",
    "print(df)\n",
    "def swap_rows(df, i1, i2):\n",
    "    a,b = df.iloc[i1,:].copy(), df.iloc[i2,:].copy()\n",
    "    df.iloc[i1, :], df.iloc[i2, :] = b, a\n",
    "    return df\n",
    "\n",
    "print(swap_rows(df, 1, 2))"
   ]
  },
  {
   "cell_type": "code",
   "execution_count": 52,
   "metadata": {},
   "outputs": [
    {
     "name": "stdout",
     "output_type": "stream",
     "text": [
      "    0   1   2   3   4\n",
      "0   0   1   2   3   4\n",
      "1   5   6   7   8   9\n",
      "2  10  11  12  13  14\n",
      "3  15  16  17  18  19\n",
      "4  20  21  22  23  24\n",
      "    0   1   2   3   4\n",
      "4  20  21  22  23  24\n",
      "3  15  16  17  18  19\n",
      "2  10  11  12  13  14\n",
      "1   5   6   7   8   9\n",
      "0   0   1   2   3   4\n"
     ]
    }
   ],
   "source": [
    "#47 reverse the rows of a dataframe\n",
    "df = pd.DataFrame(np.arange(25).reshape(5,-1))\n",
    "print(df)\n",
    "df.iloc[::-1, :]\n",
    "print(df.loc[df.index[::-1], :])"
   ]
  },
  {
   "cell_type": "code",
   "execution_count": 54,
   "metadata": {},
   "outputs": [
    {
     "name": "stdout",
     "output_type": "stream",
     "text": [
      "    a   b   c   d   e\n",
      "0   0   1   2   3   4\n",
      "1   5   6   7   8   9\n",
      "2  10  11  12  13  14\n",
      "3  15  16  17  18  19\n",
      "4  20  21  22  23  24\n",
      "   0  5  10  15  20   b   c   d   e\n",
      "0  1  0   0   0   0   1   2   3   4\n",
      "1  0  1   0   0   0   6   7   8   9\n",
      "2  0  0   1   0   0  11  12  13  14\n",
      "3  0  0   0   1   0  16  17  18  19\n",
      "4  0  0   0   0   1  21  22  23  24\n"
     ]
    }
   ],
   "source": [
    "#48 create one-hot encodings of a categorical variables\n",
    "df = pd.DataFrame(np.arange(25).reshape(5,-1), columns=list('abcde'))\n",
    "print(df)\n",
    "df_onehot = pd.concat([pd.get_dummies(df['a']), df[list('bcde')]], axis=1)\n",
    "print(df_onehot)"
   ]
  },
  {
   "cell_type": "code",
   "execution_count": 55,
   "metadata": {},
   "outputs": [
    {
     "name": "stdout",
     "output_type": "stream",
     "text": [
      "Column with highest row maxes: 3\n"
     ]
    }
   ],
   "source": [
    "#49 find which column contains the highest number of row-wise maximum values\n",
    "df = pd.DataFrame(np.random.randint(1,100,40).reshape(10,-1))\n",
    "print('Column with highest row maxes:', df.apply(np.argmax, axis=1).value_counts().index[0])"
   ]
  },
  {
   "cell_type": "code",
   "execution_count": null,
   "metadata": {},
   "outputs": [],
   "source": []
  }
 ],
 "metadata": {
  "kernelspec": {
   "display_name": "Python 3",
   "language": "python",
   "name": "python3"
  },
  "language_info": {
   "codemirror_mode": {
    "name": "ipython",
    "version": 3
   },
   "file_extension": ".py",
   "mimetype": "text/x-python",
   "name": "python",
   "nbconvert_exporter": "python",
   "pygments_lexer": "ipython3",
   "version": "3.8.5"
  }
 },
 "nbformat": 4,
 "nbformat_minor": 4
}
