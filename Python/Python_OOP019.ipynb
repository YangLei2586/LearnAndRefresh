{
 "cells": [
  {
   "cell_type": "code",
   "execution_count": 2,
   "metadata": {},
   "outputs": [
    {
     "name": "stdout",
     "output_type": "stream",
     "text": [
      "    fruit     taste  price\n",
      "0   apple  0.385735      9\n",
      "1  banana  0.651526      5\n",
      "2  orange  0.864471     10\n",
      "3   apple  0.704439      4\n",
      "4  banana  0.834656      4\n",
      "5  orange  0.994592     12\n",
      "6   apple  0.038610     13\n",
      "7  banana  0.947032      6\n",
      "8  orange  0.749715     13\n",
      "    fruit      price\n",
      "0   apple   8.666667\n",
      "1  banana   5.000000\n",
      "2  orange  11.666667\n"
     ]
    }
   ],
   "source": [
    "import pandas as pd\n",
    "import numpy as np\n",
    "#63 compute grouped mean and keep the grouped column as another column\n",
    "df = pd.DataFrame({'fruit':['apple','banana','orange']*3,\n",
    "                   'taste':np.random.rand(9),\n",
    "                   'price':np.random.randint(0,15,9)})\n",
    "print(df)\n",
    "out = df.groupby('fruit', as_index=False)['price'].mean()\n",
    "print(out)"
   ]
  },
  {
   "cell_type": "code",
   "execution_count": 4,
   "metadata": {},
   "outputs": [
    {
     "name": "stdout",
     "output_type": "stream",
     "text": [
      "    fruit  weight  price\n",
      "0   apple    high      7\n",
      "1  banana  medium      6\n",
      "2  orange     low     14\n",
      "3   apple    high     11\n",
      "4  banana  medium     14\n",
      "5  orange     low      2\n",
      "6   apple    high     14\n",
      "7  banana  medium      1\n",
      "8  orange     low      8\n",
      "   pazham  kilo  price\n",
      "0   apple  high      3\n",
      "1  orange   low      9\n",
      "2    pine  high      9\n",
      "3   apple   low      3\n",
      "4  orange  high      5\n",
      "5    pine   low     10\n"
     ]
    }
   ],
   "source": [
    "#64 join two dataframes by 2 columns so they have only the common rows\n",
    "df1 = pd.DataFrame({'fruit':['apple','banana','orange']*3,\n",
    "                    'weight':['high','medium','low']*3,\n",
    "                    'price':np.random.randint(0,15,9)})\n",
    "print(df1)\n",
    "df2 = pd.DataFrame({'pazham':['apple','orange','pine']*2,\n",
    "                    'kilo':['high','low']*3,\n",
    "                    'price':np.random.randint(0,15,6)})\n",
    "print(df2)"
   ]
  },
  {
   "cell_type": "code",
   "execution_count": 6,
   "metadata": {},
   "outputs": [
    {
     "data": {
      "text/html": [
       "<div>\n",
       "<style scoped>\n",
       "    .dataframe tbody tr th:only-of-type {\n",
       "        vertical-align: middle;\n",
       "    }\n",
       "\n",
       "    .dataframe tbody tr th {\n",
       "        vertical-align: top;\n",
       "    }\n",
       "\n",
       "    .dataframe thead th {\n",
       "        text-align: right;\n",
       "    }\n",
       "</style>\n",
       "<table border=\"1\" class=\"dataframe\">\n",
       "  <thead>\n",
       "    <tr style=\"text-align: right;\">\n",
       "      <th></th>\n",
       "      <th>fruit</th>\n",
       "      <th>weight</th>\n",
       "      <th>price_left</th>\n",
       "      <th>pazham</th>\n",
       "      <th>kilo</th>\n",
       "      <th>price_right</th>\n",
       "    </tr>\n",
       "  </thead>\n",
       "  <tbody>\n",
       "    <tr>\n",
       "      <th>0</th>\n",
       "      <td>apple</td>\n",
       "      <td>high</td>\n",
       "      <td>7</td>\n",
       "      <td>apple</td>\n",
       "      <td>high</td>\n",
       "      <td>3</td>\n",
       "    </tr>\n",
       "    <tr>\n",
       "      <th>1</th>\n",
       "      <td>apple</td>\n",
       "      <td>high</td>\n",
       "      <td>11</td>\n",
       "      <td>apple</td>\n",
       "      <td>high</td>\n",
       "      <td>3</td>\n",
       "    </tr>\n",
       "    <tr>\n",
       "      <th>2</th>\n",
       "      <td>apple</td>\n",
       "      <td>high</td>\n",
       "      <td>14</td>\n",
       "      <td>apple</td>\n",
       "      <td>high</td>\n",
       "      <td>3</td>\n",
       "    </tr>\n",
       "    <tr>\n",
       "      <th>3</th>\n",
       "      <td>orange</td>\n",
       "      <td>low</td>\n",
       "      <td>14</td>\n",
       "      <td>orange</td>\n",
       "      <td>low</td>\n",
       "      <td>9</td>\n",
       "    </tr>\n",
       "    <tr>\n",
       "      <th>4</th>\n",
       "      <td>orange</td>\n",
       "      <td>low</td>\n",
       "      <td>2</td>\n",
       "      <td>orange</td>\n",
       "      <td>low</td>\n",
       "      <td>9</td>\n",
       "    </tr>\n",
       "    <tr>\n",
       "      <th>5</th>\n",
       "      <td>orange</td>\n",
       "      <td>low</td>\n",
       "      <td>8</td>\n",
       "      <td>orange</td>\n",
       "      <td>low</td>\n",
       "      <td>9</td>\n",
       "    </tr>\n",
       "  </tbody>\n",
       "</table>\n",
       "</div>"
      ],
      "text/plain": [
       "    fruit weight  price_left  pazham  kilo  price_right\n",
       "0   apple   high           7   apple  high            3\n",
       "1   apple   high          11   apple  high            3\n",
       "2   apple   high          14   apple  high            3\n",
       "3  orange    low          14  orange   low            9\n",
       "4  orange    low           2  orange   low            9\n",
       "5  orange    low           8  orange   low            9"
      ]
     },
     "execution_count": 6,
     "metadata": {},
     "output_type": "execute_result"
    }
   ],
   "source": [
    "pd.merge(df1,df2,how='inner', left_on=['fruit','weight'], right_on=['pazham','kilo'], suffixes=['_left','_right'])"
   ]
  },
  {
   "cell_type": "code",
   "execution_count": 7,
   "metadata": {},
   "outputs": [
    {
     "name": "stdout",
     "output_type": "stream",
     "text": [
      "    fruit  weight  price\n",
      "0   apple    high      1\n",
      "1  banana  medium      0\n",
      "2  orange     low      1\n",
      "3   apple    high      0\n",
      "4  banana  medium      6\n",
      "5  orange     low     12\n",
      "6   apple    high      5\n",
      "7  banana  medium     10\n",
      "8  orange     low      3\n"
     ]
    }
   ],
   "source": [
    "#65 remove rows from a dataframe that are present in another dataframe\n",
    "df1 = pd.DataFrame({'fruit':['apple','banana','orange']*3,\n",
    "                    'weight':['high','medium','low']*3,\n",
    "                    'price':np.random.randint(0,15,9)})\n",
    "\n",
    "df2 = pd.DataFrame({'fruit':['apple','orange','pine']*2,\n",
    "                    'weight':['high','low']*3,\n",
    "                    'price':np.random.randint(0,15,6)})\n",
    "print(df1[~df1.isin(df2).all(1)])"
   ]
  },
  {
   "cell_type": "code",
   "execution_count": 8,
   "metadata": {},
   "outputs": [
    {
     "data": {
      "text/plain": [
       "(array([0, 2, 8], dtype=int64),)"
      ]
     },
     "execution_count": 8,
     "metadata": {},
     "output_type": "execute_result"
    }
   ],
   "source": [
    "#66 get the positions where values of two columns match\n",
    "df = pd.DataFrame({'fruit1':np.random.choice(['apple','orange','banana'],10),\n",
    "                   'fruit2':np.random.choice(['apple','orange','banana'],10)})\n",
    "np.where(df.fruit1 == df.fruit2)"
   ]
  },
  {
   "cell_type": "code",
   "execution_count": 10,
   "metadata": {},
   "outputs": [
    {
     "name": "stdout",
     "output_type": "stream",
     "text": [
      "    a   b   c   d\n",
      "0  60  77  89  31\n",
      "1  78   5  51   5\n",
      "2  83  18  98  17\n",
      "3   3  15  27  92\n",
      "4  33  67   3   5\n",
      "    a   b   c   d  a_lag1  b_lead1\n",
      "0  60  77  89  31     NaN      5.0\n",
      "1  78   5  51   5    60.0     18.0\n",
      "2  83  18  98  17    78.0     15.0\n",
      "3   3  15  27  92    83.0     67.0\n",
      "4  33  67   3   5     3.0      NaN\n"
     ]
    }
   ],
   "source": [
    "#67 create lags and leads of a column in a dataframe\n",
    "df = pd.DataFrame(np.random.randint(1,100,20).reshape(-1,4), columns=list('abcd'))\n",
    "print(df)\n",
    "df['a_lag1'] = df['a'].shift(1)\n",
    "df['b_lead1'] = df['b'].shift(-1)\n",
    "print(df)"
   ]
  },
  {
   "cell_type": "code",
   "execution_count": 11,
   "metadata": {},
   "outputs": [
    {
     "name": "stdout",
     "output_type": "stream",
     "text": [
      "6    4\n",
      "9    3\n",
      "5    3\n",
      "3    3\n",
      "7    2\n",
      "2    2\n",
      "8    1\n",
      "4    1\n",
      "1    1\n",
      "dtype: int64\n"
     ]
    }
   ],
   "source": [
    "#68 get the frequency of unique values in the entire dataframe\n",
    "df = pd.DataFrame(np.random.randint(1,10,20).reshape(-1,4), columns=list('abcd'))\n",
    "print(pd.value_counts(df.values.ravel()))"
   ]
  },
  {
   "cell_type": "code",
   "execution_count": 13,
   "metadata": {},
   "outputs": [
    {
     "name": "stdout",
     "output_type": "stream",
     "text": [
      "                          row\n",
      "0          STD, City    State\n",
      "1  33, Kolkata    West Bengal\n",
      "2   44, Chennai    Tamil Nadu\n",
      "3  40, Hyderabad    Telengana\n",
      "4  80, Bangalore    Karnataka\n",
      "0 STD            City    State\n",
      "1  33   Kolkata    West Bengal\n",
      "2  44    Chennai    Tamil Nadu\n",
      "3  40   Hyderabad    Telengana\n",
      "4  80   Bangalore    Karnataka\n"
     ]
    }
   ],
   "source": [
    "#69 split a text column into two separate columns \n",
    "df = pd.DataFrame([\"STD, City    State\",\n",
    "\"33, Kolkata    West Bengal\",\n",
    "\"44, Chennai    Tamil Nadu\",\n",
    "\"40, Hyderabad    Telengana\",\n",
    "\"80, Bangalore    Karnataka\"], columns=['row'])\n",
    "print(df)\n",
    "df_new = df.row.str.split(',|\\t',expand=True)\n",
    "new_header = df_new.iloc[0]\n",
    "df_new =df_new[1:]\n",
    "df_new.columns = new_header\n",
    "print(df_new)"
   ]
  },
  {
   "cell_type": "code",
   "execution_count": null,
   "metadata": {},
   "outputs": [],
   "source": []
  }
 ],
 "metadata": {
  "kernelspec": {
   "display_name": "Python 3",
   "language": "python",
   "name": "python3"
  },
  "language_info": {
   "codemirror_mode": {
    "name": "ipython",
    "version": 3
   },
   "file_extension": ".py",
   "mimetype": "text/x-python",
   "name": "python",
   "nbconvert_exporter": "python",
   "pygments_lexer": "ipython3",
   "version": "3.8.5"
  }
 },
 "nbformat": 4,
 "nbformat_minor": 4
}
