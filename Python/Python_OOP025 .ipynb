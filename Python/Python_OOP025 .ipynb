{
 "cells": [
  {
   "cell_type": "code",
   "execution_count": 1,
   "metadata": {},
   "outputs": [],
   "source": [
    "# check valid sudoku \n",
    "def isvalidsudoku(self,board):\n",
    "    return 1 == max(collections.Counter(\n",
    "                    x\n",
    "                    for i, row in enumerate(board)\n",
    "                    for j, c in enumerate(row)\n",
    "                    if c!= '.'\n",
    "                    for x in ((c,i),(j,c),(i/3,j/3,c))\n",
    "                   ).values()+[1])"
   ]
  },
  {
   "cell_type": "code",
   "execution_count": 2,
   "metadata": {},
   "outputs": [],
   "source": [
    "def isvalidsudoku2(self,board):\n",
    "    seen = sum(([(c,i),(j,c),(i/3,j/3,c)]\n",
    "                 for i, row in enumerate(board)\n",
    "                 for j, c in enumerate(row)\n",
    "                 if c!= '.'),[])\n",
    "    return len(seen) == len(set(seen))"
   ]
  },
  {
   "cell_type": "code",
   "execution_count": 3,
   "metadata": {},
   "outputs": [],
   "source": [
    "def isvalidsudoku3(self,board):\n",
    "    seen = set()\n",
    "    return not any(x in seen or seen.add(x)\n",
    "                   for i, row in enumerate(board)\n",
    "                   for j,c in enmuerate(row)\n",
    "                   if c != '.'\n",
    "                   for x in((c,i),(j,c),(i/3, j/3, c)))"
   ]
  },
  {
   "cell_type": "code",
   "execution_count": 4,
   "metadata": {},
   "outputs": [],
   "source": [
    "# rotate image n by n 2D matrix \n",
    "def rotate(self,matrix):\n",
    "    n = len(matrix[0])\n",
    "    for i in range(n//2 + n%2):\n",
    "        for j in range(n//2):\n",
    "            tmp = matrix[n-1-j][i]\n",
    "            matrix[n-1-j][i]=matrix[n-1-i][n-j-1]\n",
    "            matrix[n-1-i][n-j-1]=matrix[j][n-1-i]\n",
    "            matrix[j][n-1-i]=matrix[i][j]\n",
    "            matrix[i][j]=tmp"
   ]
  },
  {
   "cell_type": "code",
   "execution_count": 5,
   "metadata": {},
   "outputs": [],
   "source": [
    "def rotate2(self,matrix):\n",
    "    self.transpose(matrix)\n",
    "    self.reflect(matrix)\n",
    "def transpose(self,matrix):\n",
    "    n = len(matrix)\n",
    "    for i in range(n):\n",
    "        for j in range(i,n):\n",
    "            matrix[j][i],matrix[i][j] = matrix[i][j],matrix[j][i]\n",
    "def reflect(self,matrix):\n",
    "    n = len(matrix)\n",
    "    for i in range(n):\n",
    "        for j in range(n//2):\n",
    "            matrix[i][j],matrix[i][-j-1]=matrix[i][-j-1],matrix[i][j]"
   ]
  },
  {
   "cell_type": "code",
   "execution_count": 1,
   "metadata": {},
   "outputs": [],
   "source": [
    "# Function to reverse string \n",
    "# s1 recursion 1) why left > rigth do nothing\n",
    "def reverseString(self,s):\n",
    "    def helper(left,right):\n",
    "        if left<right:\n",
    "            s[left],s[right] = s[rigth],s[left]\n",
    "            helper(left+1,right-1)"
   ]
  },
  {
   "cell_type": "code",
   "execution_count": 2,
   "metadata": {},
   "outputs": [],
   "source": [
    "# s2 Iteration \n",
    "def reverseString(self,s):\n",
    "    left,right = 0, len(s)-1\n",
    "    while left < right:\n",
    "        s[left],s[right]=s[right],s[left]\n",
    "        left,right = left + 1, right -1 "
   ]
  },
  {
   "cell_type": "code",
   "execution_count": 3,
   "metadata": {},
   "outputs": [],
   "source": [
    "# reverse digits s1\n",
    "def reverse(self, x):\n",
    "    if x>=2**31 -1 or x<= -2**31:\n",
    "        return 0\n",
    "    else:\n",
    "        strg = str(x)\n",
    "        if x>0:\n",
    "            revst = strg[::-1]\n",
    "        else:\n",
    "            temp = strg[1:]\n",
    "            temp2 = temp[::-1]\n",
    "            revst = '-' + temp2\n",
    "        if int(revst) >= 2**31 -1 or int(revst) <= -2**31: return 0\n",
    "        else: return int(revst)"
   ]
  },
  {
   "cell_type": "code",
   "execution_count": 4,
   "metadata": {},
   "outputs": [],
   "source": [
    "# s2 \n",
    "def reverse(self,x):\n",
    "    s = cmp(x,0)\n",
    "    r = int('s*x'[::-1])\n",
    "    return s*r*(r<2**31)"
   ]
  },
  {
   "cell_type": "code",
   "execution_count": 5,
   "metadata": {},
   "outputs": [],
   "source": [
    "# s3\n",
    "def reverse(self,x):\n",
    "    sign = lambda x: x and (1,-1)[x<0]\n",
    "    r = int(str(sing(x)*x)[::-1])\n",
    "    return (sign(x)*r, 0)[r>2**31 - 1]"
   ]
  },
  {
   "cell_type": "code",
   "execution_count": 6,
   "metadata": {},
   "outputs": [],
   "source": [
    "# function to return the first non repeating character in a string 1) uniqe 2) first \n",
    "# s1\n",
    "def firstUniqChar(self,s):\n",
    "    # build hash map to store characters and how often it appears\n",
    "    count= collections.Counter(s)\n",
    "    \n",
    "    # find the index\n",
    "    for idx, ch in enumerate(s):\n",
    "        if count[ch] == 1:\n",
    "            return idx\n",
    "    return -1 \n"
   ]
  },
  {
   "cell_type": "code",
   "execution_count": 7,
   "metadata": {},
   "outputs": [],
   "source": [
    "# s2 \n",
    "from collections import OrderedDict, Counter\n",
    "def firstUniqChar2(self,s):\n",
    "    for i,j in OrderedDict(Counter(s)).items():\n",
    "        if j == 1:\n",
    "            return s.index(i)\n",
    "    return -1 "
   ]
  },
  {
   "cell_type": "code",
   "execution_count": 8,
   "metadata": {},
   "outputs": [],
   "source": [
    "# s3 \n",
    "def fristUniqChar3(self,s):\n",
    "    mp = {}\n",
    "    res = 0\n",
    "    for i,c in enumerate(s):\n",
    "        if c in mp:\n",
    "            mp[c] += 1\n",
    "        else:\n",
    "            mp[c] = 1\n",
    "    for key, value in mp.items():\n",
    "        if value == 1:\n",
    "            res = s.index(key)\n",
    "            return res\n",
    "    return -1 "
   ]
  },
  {
   "cell_type": "code",
   "execution_count": 1,
   "metadata": {},
   "outputs": [],
   "source": [
    "# s4 \n",
    "def firstUniqChar4(self,s):\n",
    "    if not s: return -1\n",
    "    if len(s) == 1: return 0\n",
    "    \n",
    "    for i, ch in enumerate(s):\n",
    "        if ch not in s[:i]+s[i+1]:\n",
    "            return i \n",
    "    return -1"
   ]
  },
  {
   "cell_type": "code",
   "execution_count": 2,
   "metadata": {},
   "outputs": [],
   "source": [
    "# s5 \n",
    "def firstUniqChar5(self,s):\n",
    "    if not s: return -1\n",
    "    if len(s)==1: return 0\n",
    "    \n",
    "    ind = len(s)\n",
    "    for i in set(s):\n",
    "        if s.count(i) == 1:\n",
    "            ind = min(ind, s.index(i))\n",
    "            \n",
    "    return ind if ind!=len(s) else -1"
   ]
  },
  {
   "cell_type": "code",
   "execution_count": 3,
   "metadata": {},
   "outputs": [],
   "source": [
    "# function return true or false for two given strings \n",
    "# s1 sorted \n",
    "def isAnagram1(self,s,t):\n",
    "    dic1, dic2 = {}, {}\n",
    "    for item in s:\n",
    "        dic1[item] = dic1.get(item,0) + 1\n",
    "    for item in t:\n",
    "        dic2[item] = dic2.get(item,0) + 1\n",
    "    return dic1 == dic2\n",
    "def isAnagram2(self,s,t):\n",
    "    dic1, dic2 = [0]*26, [0]*26\n",
    "    for item in s:\n",
    "        dic1[ord(item)-ord('a')] += 1\n",
    "    for item in t:\n",
    "        dic2[ord(item)-ord('a')] += 1\n",
    "    return dic1 == dic2\n",
    "def isAnagram3(self,s,t):\n",
    "    return sorted(s) == sorted(t)\n",
    "    "
   ]
  },
  {
   "cell_type": "code",
   "execution_count": 4,
   "metadata": {},
   "outputs": [],
   "source": [
    "# function detect a given string a palindrom or not; a palindrom is a word, phrase, or sequence that \n",
    "# reads the same backwards as forwards e.g. \"madam\". A palindrom and its reverse are iddentical to each other \n",
    "# s1   1) no idea of isalnum() and list[::-1] >> Python basics need continue to improve\n",
    "def isPalindrome1(self,s):\n",
    "    \n",
    "    filtered_chars = filter(lambda ch: ch.isalnum(),s)\n",
    "    lowercase_filtered_chars = map(lambda ch: ch.lower(), filtered_chars)\n",
    "    \n",
    "    filtered_chars_list = list(lowerchase_filtered_chars)\n",
    "    reversed_chars_list = filtered_chars_list[::-1]\n",
    "    \n",
    "    return filtered_chars_list == reversed_chars_list    "
   ]
  },
  {
   "cell_type": "code",
   "execution_count": 5,
   "metadata": {},
   "outputs": [],
   "source": [
    "# s2 two pointers\n",
    "def isPalindrome2(self,s):\n",
    "    i, j = 0, len(s) - 1\n",
    "    \n",
    "    while i<j:\n",
    "        while i<j and not s[i].isalnum():\n",
    "            i += 1\n",
    "        while i<j and not s[j].isalnum():\n",
    "            j -= 1\n",
    "        \n",
    "        if s[i].lower() != s[j].lower():\n",
    "            return false\n",
    "        \n",
    "        i += 1\n",
    "        j -= 1\n",
    "        \n",
    "    return True       "
   ]
  },
  {
   "cell_type": "code",
   "execution_count": 6,
   "metadata": {},
   "outputs": [],
   "source": [
    "# s3 \n",
    "def isPalindrom3(self,s):\n",
    "    left, right = 0, len(s) - 1\n",
    "    \n",
    "    while left < right:\n",
    "        while left<right and not s[left].isalnum():\n",
    "            left += 1\n",
    "        while left<right and not s[right].isalnum():\n",
    "            right -= 1\n",
    "            \n",
    "        if left<right and s[left].lower()!=s[right].lower():\n",
    "            return False\n",
    "        \n",
    "        left += 1\n",
    "        right -= 1\n",
    "        \n",
    "    return True"
   ]
  },
  {
   "cell_type": "code",
   "execution_count": 7,
   "metadata": {},
   "outputs": [],
   "source": [
    "# s4\n",
    "def isPalindrom4(self,s):\n",
    "    left = 0\n",
    "    right = len(s) -1 \n",
    "    \n",
    "    while left < right:\n",
    "        if not s[left].isalnum():\n",
    "            left +=1\n",
    "            continue\n",
    "        if not s[right].isalnum():\n",
    "            right -= 1\n",
    "            continue\n",
    "        \n",
    "        if s[left].lower() != s[right].lower():\n",
    "            return False\n",
    "        \n",
    "        left += 1\n",
    "        right -= 1\n",
    "     "
   ]
  },
  {
   "cell_type": "code",
   "execution_count": 8,
   "metadata": {},
   "outputs": [],
   "source": [
    "# string to integer atoi \n",
    "# s1 regular expression \n",
    "def atoi1(self, s):\n",
    "    s = str.strip()\n",
    "    s = refindall('(^[\\+\\-0]*\\d+)\\D*', s)\n",
    "    \n",
    "    try:\n",
    "        result = int(''.join(s))\n",
    "        Max_Int = 2147483647\n",
    "        Min_Int = -2147483648\n",
    "        \n",
    "        if result > Max_Int > 0:\n",
    "            return Max_Int\n",
    "        elif result <Max_Int<0:\n",
    "            return Max_Int\n",
    "        else:\n",
    "            return result\n",
    "        \n",
    "    except:\n",
    "        return 0"
   ]
  },
  {
   "cell_type": "code",
   "execution_count": 10,
   "metadata": {},
   "outputs": [],
   "source": [
    "def atoi2(self,s):\n",
    "    value, state, pos, sign = 0,0,0,1\n",
    "    \n",
    "    if len(s)==0:\n",
    "        return 0\n",
    "    while pos < len(s):\n",
    "        current_char = s[pos]\n",
    "        if state == 0:\n",
    "            if current_char == \" \":\n",
    "                state = 0\n",
    "            elif current_char == \"+\" or current_char == \"-\":\n",
    "                state = 1\n",
    "                sign = 1 if current_char == \"+\" else -1\n",
    "            elif current_char.isdigit():\n",
    "                state = 2\n",
    "                value = value*10 + int(current_char)\n",
    "            else:\n",
    "                return 0 \n",
    "        elif state == 1:\n",
    "            if current_char.isdigit():\n",
    "                state = 2\n",
    "                value = value*10 + int(current_char)\n",
    "            else:\n",
    "                return 0\n",
    "        elif state == 2:\n",
    "            if current_char.isdigit():\n",
    "                state = 2\n",
    "                value = value*10 + int(current_char)\n",
    "            else:\n",
    "                break\n",
    "        else:\n",
    "            return 0\n",
    "        pos += 1\n",
    "        \n",
    "    value = sign* value\n",
    "    value = max(-(2**31),value)\n",
    "    \n",
    "    return value"
   ]
  },
  {
   "cell_type": "code",
   "execution_count": 15,
   "metadata": {},
   "outputs": [],
   "source": [
    "mapping = {\"1\":1,\"2\":2,\"3\":3,\"4\":4,\"5\":5,\"6\":6,\"7\":7,\"8\":8,\"9\":9,\"10\":10}\n",
    "Max_int = 2**31 -1\n",
    "Min_int = -(2**31)\n",
    "    \n",
    "def atoi3(self,s):\n",
    "    s = string.lstrip(' ')\n",
    "    if not s:\n",
    "        return 0\n",
    "    \n",
    "    sign = -1 if s[0]=='-' else 1\n",
    "    if sign != 1 or s[0] == \"+\":\n",
    "        s = s[1]\n",
    "        \n",
    "    res = 0\n",
    "    for c in s:\n",
    "        if c not in mapping:\n",
    "            return self.limit(res*sign)\n",
    "        \n",
    "        res *= 10\n",
    "        res += mapping[c]\n",
    "        \n",
    "def limit(self,x):\n",
    "    if x > Max_int:\n",
    "        return Max_int\n",
    "    if x < Min_int:\n",
    "        return Min_int\n",
    "    \n",
    "    return x"
   ]
  },
  {
   "cell_type": "code",
   "execution_count": null,
   "metadata": {},
   "outputs": [],
   "source": []
  },
  {
   "cell_type": "code",
   "execution_count": null,
   "metadata": {},
   "outputs": [],
   "source": []
  }
 ],
 "metadata": {
  "kernelspec": {
   "display_name": "Python 3",
   "language": "python",
   "name": "python3"
  },
  "language_info": {
   "codemirror_mode": {
    "name": "ipython",
    "version": 3
   },
   "file_extension": ".py",
   "mimetype": "text/x-python",
   "name": "python",
   "nbconvert_exporter": "python",
   "pygments_lexer": "ipython3",
   "version": "3.8.5"
  }
 },
 "nbformat": 4,
 "nbformat_minor": 4
}
