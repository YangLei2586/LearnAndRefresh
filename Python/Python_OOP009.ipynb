{
 "cells": [
  {
   "cell_type": "code",
   "execution_count": 4,
   "metadata": {},
   "outputs": [
    {
     "name": "stdout",
     "output_type": "stream",
     "text": [
      "blas_mkl_info:\n",
      "    libraries = ['mkl_rt']\n",
      "    library_dirs = ['C:/Users/LylionCj/anaconda3\\\\Library\\\\lib']\n",
      "    define_macros = [('SCIPY_MKL_H', None), ('HAVE_CBLAS', None)]\n",
      "    include_dirs = ['C:/Users/LylionCj/anaconda3\\\\Library\\\\include']\n",
      "blas_opt_info:\n",
      "    libraries = ['mkl_rt']\n",
      "    library_dirs = ['C:/Users/LylionCj/anaconda3\\\\Library\\\\lib']\n",
      "    define_macros = [('SCIPY_MKL_H', None), ('HAVE_CBLAS', None)]\n",
      "    include_dirs = ['C:/Users/LylionCj/anaconda3\\\\Library\\\\include']\n",
      "lapack_mkl_info:\n",
      "    libraries = ['mkl_rt']\n",
      "    library_dirs = ['C:/Users/LylionCj/anaconda3\\\\Library\\\\lib']\n",
      "    define_macros = [('SCIPY_MKL_H', None), ('HAVE_CBLAS', None)]\n",
      "    include_dirs = ['C:/Users/LylionCj/anaconda3\\\\Library\\\\include']\n",
      "lapack_opt_info:\n",
      "    libraries = ['mkl_rt']\n",
      "    library_dirs = ['C:/Users/LylionCj/anaconda3\\\\Library\\\\lib']\n",
      "    define_macros = [('SCIPY_MKL_H', None), ('HAVE_CBLAS', None)]\n",
      "    include_dirs = ['C:/Users/LylionCj/anaconda3\\\\Library\\\\include']\n"
     ]
    }
   ],
   "source": [
    "#01 Import numpy and check the version number\n",
    "import numpy as np\n",
    "np.show_config()"
   ]
  },
  {
   "cell_type": "code",
   "execution_count": 9,
   "metadata": {},
   "outputs": [
    {
     "data": {
      "text/plain": [
       "array([ 0,  1,  2,  3,  4,  5,  6,  7,  8,  9, 10, 11, 12, 13, 14, 15, 16,\n",
       "       17, 18, 19])"
      ]
     },
     "execution_count": 9,
     "metadata": {},
     "output_type": "execute_result"
    }
   ],
   "source": [
    "#02 Create a 1D array of numbers from 0 to 20\n",
    "arr = np.arange(20)\n",
    "arr"
   ]
  },
  {
   "cell_type": "code",
   "execution_count": 12,
   "metadata": {},
   "outputs": [
    {
     "data": {
      "text/plain": [
       "array([[ True,  True,  True,  True,  True,  True],\n",
       "       [ True,  True,  True,  True,  True,  True],\n",
       "       [ True,  True,  True,  True,  True,  True],\n",
       "       [ True,  True,  True,  True,  True,  True]])"
      ]
     },
     "execution_count": 12,
     "metadata": {},
     "output_type": "execute_result"
    }
   ],
   "source": [
    "#03 create a 4 X 6 numpy array of all True's\n",
    "arrT = np.full((4,6), True, dtype=bool)\n",
    "arrT"
   ]
  },
  {
   "cell_type": "code",
   "execution_count": 14,
   "metadata": {},
   "outputs": [
    {
     "data": {
      "text/plain": [
       "array([[ True,  True,  True,  True,  True,  True],\n",
       "       [ True,  True,  True,  True,  True,  True],\n",
       "       [ True,  True,  True,  True,  True,  True],\n",
       "       [ True,  True,  True,  True,  True,  True]])"
      ]
     },
     "execution_count": 14,
     "metadata": {},
     "output_type": "execute_result"
    }
   ],
   "source": [
    "#03 alternate method\n",
    "arrt = np.ones((4,6),dtype=bool)\n",
    "arrt"
   ]
  },
  {
   "cell_type": "code",
   "execution_count": 30,
   "metadata": {},
   "outputs": [
    {
     "name": "stdout",
     "output_type": "stream",
     "text": [
      "[1. 1. 1. 1. 1.]\n",
      "[1 1 1 1 1]\n",
      "[ True  True  True  True  True]\n",
      "[[1.]\n",
      " [1.]]\n",
      "[[1. 1.]\n",
      " [1. 1.]]\n",
      "[[1. 1. 1. 1. 1.]\n",
      " [1. 1. 1. 1. 1.]\n",
      " [1. 1. 1. 1. 1.]]\n",
      "[[0 1 2]\n",
      " [3 4 5]]\n",
      "[[1 1 1]\n",
      " [1 1 1]]\n",
      "[[0 0 0]\n",
      " [0 0 0]]\n",
      "[[1. 1.]\n",
      " [1. 1.]]\n",
      "[[         0 1072693248]\n",
      " [         0 1072693248]]\n"
     ]
    }
   ],
   "source": [
    "#04 np.ones\n",
    "arr1 = np.ones(5)\n",
    "print(arr1)\n",
    "arr2 = np.ones((5,), dtype=int)\n",
    "print(arr2)\n",
    "arr3 = np.ones((5,), dtype=bool)\n",
    "print(arr3)\n",
    "arr4 = np.ones((2,1))\n",
    "print(arr4)\n",
    "s = (2,2)\n",
    "arr5 = np.ones(s)\n",
    "print(arr5)\n",
    "arr6 = np.ones((3,5))\n",
    "print(arr6)\n",
    "x = np.arange(6)\n",
    "x = x.reshape((2,3))\n",
    "print(x)\n",
    "arr7 = np.ones_like(x)\n",
    "print(arr7)\n",
    "arr8 = np.zeros_like(x)\n",
    "print(arr8)\n",
    "arr9 = np.empty([2,2])\n",
    "print(arr9)\n",
    "arr10 = np.empty([2,2],dtype=int)\n",
    "print(arr10)"
   ]
  },
  {
   "cell_type": "code",
   "execution_count": 38,
   "metadata": {},
   "outputs": [
    {
     "name": "stdout",
     "output_type": "stream",
     "text": [
      "[0 2 4 6 8]\n",
      "[ 0 -1  2 -1  4 -1  6 -1  8 -1]\n",
      "[ 3 -1  3 -1  3 -1  3 -1  3 -1]\n"
     ]
    }
   ],
   "source": [
    "#04 extract items that satify a given condition from 1D array\n",
    "arr11 = np.array([0,1,2,3,4,5,6,7,8,9])\n",
    "arr12 = arr11[arr11 % 2 == 0]\n",
    "print(arr12)\n",
    "arr11[arr11 % 2 == 1]= -1\n",
    "print(arr11)\n",
    "arr11[arr11 % 2 == 0]= 3\n",
    "print(arr11)"
   ]
  },
  {
   "cell_type": "code",
   "execution_count": 39,
   "metadata": {},
   "outputs": [
    {
     "data": {
      "text/plain": [
       "array([[0, 1, 2, 3, 4],\n",
       "       [5, 6, 7, 8, 9]])"
      ]
     },
     "execution_count": 39,
     "metadata": {},
     "output_type": "execute_result"
    }
   ],
   "source": [
    "#05 reshape an arrat\n",
    "arr13 = np.arange(10)\n",
    "arr13.reshape(2,-1)"
   ]
  },
  {
   "cell_type": "code",
   "execution_count": 59,
   "metadata": {},
   "outputs": [
    {
     "name": "stdout",
     "output_type": "stream",
     "text": [
      "[[0 1 2 3 4]\n",
      " [5 6 7 8 9]]\n",
      "[[1 1 1 1 1]\n",
      " [1 1 1 1 1]]\n",
      "[[0 1 2 3 4 1 1 1 1 1]\n",
      " [5 6 7 8 9 1 1 1 1 1]]\n",
      "[[0 1 2 3 4 1 1 1 1 1]\n",
      " [5 6 7 8 9 1 1 1 1 1]]\n",
      "[[0 1 2 3 4]\n",
      " [5 6 7 8 9]\n",
      " [1 1 1 1 1]\n",
      " [1 1 1 1 1]]\n",
      "[[0 1 2 3 4 1 1 1 1 1]\n",
      " [5 6 7 8 9 1 1 1 1 1]]\n"
     ]
    }
   ],
   "source": [
    "#06 stack two arrays \n",
    "a = np.arange(10).reshape(2,-1)\n",
    "b = np.repeat(1,10).reshape(2,-1)\n",
    "print(a)\n",
    "print(b)\n",
    "c = np.concatenate((a,b),axis=1)\n",
    "print(c)\n",
    "d = np.hstack((a,b))\n",
    "print(d)\n",
    "e = np.vstack((a,b))\n",
    "print(e)\n",
    "f = np.c_[a,b]\n",
    "print(f)"
   ]
  },
  {
   "cell_type": "code",
   "execution_count": 49,
   "metadata": {},
   "outputs": [
    {
     "name": "stdout",
     "output_type": "stream",
     "text": [
      "[1 1 1 2 2 2 3 3 3 1 2 3 1 2 3 1 2 3]\n"
     ]
    }
   ],
   "source": [
    "#07 generate custom sequences in numpy without hardcoding\n",
    "j = np.array([1,2,3])\n",
    "k = np.r_[np.repeat(j,3), np.tile(j,3)]\n",
    "print(k)"
   ]
  },
  {
   "cell_type": "code",
   "execution_count": 50,
   "metadata": {},
   "outputs": [
    {
     "name": "stdout",
     "output_type": "stream",
     "text": [
      "[2 4]\n"
     ]
    }
   ],
   "source": [
    "#08 get common items between two numpy arrays\n",
    "a1 = np.array([1,2,3,2,3,4,3,4,5,6])\n",
    "a2 = np.array([7,2,10,2,7,4,9,4,9,8])\n",
    "a3 = np.intersect1d(a1,a2)\n",
    "print(a3)"
   ]
  },
  {
   "cell_type": "code",
   "execution_count": 60,
   "metadata": {},
   "outputs": [
    {
     "name": "stdout",
     "output_type": "stream",
     "text": [
      "[1 3 5 6]\n"
     ]
    }
   ],
   "source": [
    "#09 remove items from one array that exist in another array\n",
    "a4 = np.setdiff1d(a1,a2)\n",
    "print(a4)"
   ]
  },
  {
   "cell_type": "code",
   "execution_count": 63,
   "metadata": {},
   "outputs": [
    {
     "name": "stdout",
     "output_type": "stream",
     "text": [
      "(array([1, 3, 5, 7], dtype=int64),)\n"
     ]
    }
   ],
   "source": [
    "#10 get the positions where elements of two arrays match\n",
    "a5 = np.where(a1 == a2)\n",
    "print(a5)"
   ]
  },
  {
   "cell_type": "code",
   "execution_count": 64,
   "metadata": {},
   "outputs": [
    {
     "data": {
      "text/plain": [
       "array([ 6,  9, 10])"
      ]
     },
     "execution_count": 64,
     "metadata": {},
     "output_type": "execute_result"
    }
   ],
   "source": [
    "#11 extract all numbers between a given range from array\n",
    "a6 = np.array([2,6,1,9,10,3,27])\n",
    "a6[(a6 >= 5) & (a6 <= 10)]"
   ]
  },
  {
   "cell_type": "code",
   "execution_count": 65,
   "metadata": {},
   "outputs": [
    {
     "data": {
      "text/plain": [
       "array([6., 7., 9., 8., 9., 7., 5.])"
      ]
     },
     "execution_count": 65,
     "metadata": {},
     "output_type": "execute_result"
    }
   ],
   "source": [
    "#12 Function Vectorization construct a function to select the bigger number from two corresponding elements of two arrays to form a new array\n",
    "\n",
    "def max(x,y):\n",
    "    \"\"\"get the maxium of two items\"\"\"\n",
    "    if x >= y:     # where here x can repersent its elements?\n",
    "        return x\n",
    "    else:\n",
    "        return y\n",
    "\n",
    "pair_max = np.vectorize(max, otypes=[float])\n",
    "\n",
    "a7 = np.array([5,7,9,8,6,4,5])\n",
    "a8 = np.array([6,3,4,8,9,7,1])\n",
    "\n",
    "pair_max(a7,a8)"
   ]
  },
  {
   "cell_type": "code",
   "execution_count": 66,
   "metadata": {},
   "outputs": [
    {
     "data": {
      "text/plain": [
       "array([11,  4,  5,  0, 15, 11,  4])"
      ]
     },
     "execution_count": 66,
     "metadata": {},
     "output_type": "execute_result"
    }
   ],
   "source": [
    "def act(x,y):\n",
    "    \"\"\"if x>y return x-y or x+y \"\"\"\n",
    "    if x >= y:\n",
    "        return x-y\n",
    "    else:\n",
    "        return x+y\n",
    "\n",
    "pair_act = np.vectorize(act)\n",
    "\n",
    "a7 = np.array([5,7,9,8,6,4,5])\n",
    "a8 = np.array([6,3,4,8,9,7,1])\n",
    "\n",
    "pair_act(a7,a8)"
   ]
  }
 ],
 "metadata": {
  "kernelspec": {
   "display_name": "Python 3",
   "language": "python",
   "name": "python3"
  },
  "language_info": {
   "codemirror_mode": {
    "name": "ipython",
    "version": 3
   },
   "file_extension": ".py",
   "mimetype": "text/x-python",
   "name": "python",
   "nbconvert_exporter": "python",
   "pygments_lexer": "ipython3",
   "version": "3.8.5"
  }
 },
 "nbformat": 4,
 "nbformat_minor": 4
}
