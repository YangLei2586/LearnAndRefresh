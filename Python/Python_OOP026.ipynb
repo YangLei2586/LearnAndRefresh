{
 "cells": [
  {
   "cell_type": "code",
   "execution_count": 1,
   "metadata": {},
   "outputs": [],
   "source": [
    "# Neddle of haystack\n",
    "def strStr1(self,haystack,needle):\n",
    "    if needle == \"\":\n",
    "        return 0\n",
    "    for i in range(len(haystack) - len(needle) + 1):\n",
    "        for j in range(len(needle)):\n",
    "            if haystack[i+j] != needle[j]:\n",
    "                break\n",
    "            if j == len(needle)-1:\n",
    "                return i\n",
    "    return -1\n"
   ]
  },
  {
   "cell_type": "code",
   "execution_count": 2,
   "metadata": {},
   "outputs": [],
   "source": [
    "def strStr2(self,haystack,needle):\n",
    "    for i in range(0,len(haystack) - len(needle) + 1):\n",
    "        if haystack[i: i+len(needle)] == needle:\n",
    "            return i\n",
    "    return -1"
   ]
  },
  {
   "cell_type": "code",
   "execution_count": 3,
   "metadata": {},
   "outputs": [],
   "source": [
    "# Count and say\n",
    "# s1 \n",
    "def countAndSay(self,n):\n",
    "    s = '1'\n",
    "    for _ in range(n-1):\n",
    "        s = re.sub(r'(.)\\1*', lambda m: str(len(m.group(0))) + m.group(1), s)\n",
    "    return s"
   ]
  },
  {
   "cell_type": "code",
   "execution_count": 8,
   "metadata": {},
   "outputs": [],
   "source": [
    "# s2\n",
    "def countAndSay2(self,n):\n",
    "    s = '1'\n",
    "    for _ in range(n-1):\n",
    "        s = ''.join(str(len(group)) + digit for group, digit in re.findall(r'((.)\\2*)',s))\n",
    "    return s       "
   ]
  },
  {
   "cell_type": "code",
   "execution_count": 9,
   "metadata": {},
   "outputs": [],
   "source": [
    "# longest common prefix\n",
    "# s1 \n",
    "def longestCommonPrefix(self,s):\n",
    "    if not s:\n",
    "        return \"\"\n",
    "    shortest = min(s,key=len)\n",
    "    for i, ch in enumerate(shortest):\n",
    "        for other in s:\n",
    "            if other[i] != ch:\n",
    "                return shortest[:i]\n",
    "    return shortest"
   ]
  },
  {
   "cell_type": "code",
   "execution_count": 10,
   "metadata": {},
   "outputs": [],
   "source": [
    "# s2\n",
    "def longestCommonPrefix2(self,strs):\n",
    "    longest_pre = \"\"\n",
    "    if not strs:\n",
    "        return longest_pre\n",
    "    shortest_str = min(strs,key=len)\n",
    "    for i in range(len(shortest_str)):\n",
    "        if all([x.startswith(shortest_str[:i+1]) for x in strs]):\n",
    "            longest_pre = shortest_str[:i+1]\n",
    "        else:\n",
    "            break\n",
    "    return longest_pre"
   ]
  },
  {
   "cell_type": "code",
   "execution_count": null,
   "metadata": {},
   "outputs": [],
   "source": [
    "# s3\n",
    "def longestCommonPrefix3(self,strs):\n",
    "    if not strs:\n",
    "        return \"\"\n",
    "    for i, letter_group in enumerate(zip(*strs)):\n",
    "        if len(set(letter_group)) > 1:\n",
    "            return strs[0][:i]\n",
    "    else:\n",
    "        return min(strs)"
   ]
  }
 ],
 "metadata": {
  "kernelspec": {
   "display_name": "Python 3",
   "language": "python",
   "name": "python3"
  },
  "language_info": {
   "codemirror_mode": {
    "name": "ipython",
    "version": 3
   },
   "file_extension": ".py",
   "mimetype": "text/x-python",
   "name": "python",
   "nbconvert_exporter": "python",
   "pygments_lexer": "ipython3",
   "version": "3.8.5"
  }
 },
 "nbformat": 4,
 "nbformat_minor": 4
}
