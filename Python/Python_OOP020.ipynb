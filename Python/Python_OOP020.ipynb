{
 "cells": [
  {
   "cell_type": "code",
   "execution_count": 15,
   "metadata": {},
   "outputs": [],
   "source": [
    "# compute the max different between two numbers of an array\n",
    "import numpy as np\n",
    "class Solution:\n",
    "    def maxArr(self, arr):\n",
    "        max_diff = float('-inf')     # the max difference \n",
    "        min_value = float('inf')     # the min value of the array\n",
    "        \n",
    "        n = len(arr) \n",
    "        \n",
    "        for i in range(n):\n",
    "            if arr[i] < min_value:\n",
    "                min_value = arr[i]\n",
    "            if max_diff < (arr[i] - min_value):\n",
    "                max_diff = arr[i] - min_value\n",
    "        \n",
    "        return max_diff"
   ]
  },
  {
   "cell_type": "code",
   "execution_count": 17,
   "metadata": {},
   "outputs": [
    {
     "name": "stdout",
     "output_type": "stream",
     "text": [
      "19\n"
     ]
    }
   ],
   "source": [
    "if __name__ == '__main__':\n",
    "    tar_arr = [1,2,3,8,4,20]\n",
    "    print(Solution().maxArr(tar_arr))"
   ]
  },
  {
   "cell_type": "code",
   "execution_count": 18,
   "metadata": {},
   "outputs": [],
   "source": [
    "def maxArr(arr):\n",
    "        max_diff = float('-inf')     # the max difference \n",
    "        min_value = float('inf')     # the min value of the array\n",
    "        \n",
    "        n = len(arr) \n",
    "        \n",
    "        for i in range(n):\n",
    "            if arr[i] < min_value:\n",
    "                min_value = arr[i]\n",
    "            if max_diff < (arr[i] - min_value):\n",
    "                max_diff = arr[i] - min_value\n",
    "                \n",
    "        return max_diff"
   ]
  },
  {
   "cell_type": "code",
   "execution_count": 28,
   "metadata": {},
   "outputs": [],
   "source": [
    "arr2 = [222,34,6,7,8,9,23,4,55,1121]\n",
    "arr3 = [5,6,10,2,15,20,29,20,10]"
   ]
  },
  {
   "cell_type": "code",
   "execution_count": 29,
   "metadata": {},
   "outputs": [
    {
     "data": {
      "text/plain": [
       "27"
      ]
     },
     "execution_count": 29,
     "metadata": {},
     "output_type": "execute_result"
    }
   ],
   "source": [
    "maxArr(arr2)\n",
    "maxArr(arr3)"
   ]
  },
  {
   "cell_type": "code",
   "execution_count": 24,
   "metadata": {},
   "outputs": [],
   "source": [
    "def Max_Profit(array):\n",
    "    \n",
    "    \"\"\"\n",
    "    this Max_Profit function takes an array containing a arbitrary number of stock prices as input\n",
    "    will return the max profit which the max difference between a pair of stock prices of this array\n",
    "    \"\"\"\n",
    "    max_diff = float('-inf')          # the max difference\n",
    "    min_value = float('inf')          # the minimal price of the array\n",
    "    \n",
    "    n = len(array)                    # the length of the array\n",
    "    \n",
    "    for i in range(n):\n",
    "        if array[i] < min_value:\n",
    "            min_value = array[i]\n",
    "        if max_diff < (array[i] - min_value):\n",
    "            max_diff = array[i] - min_value\n",
    "            \n",
    "    return max_diff"
   ]
  },
  {
   "cell_type": "code",
   "execution_count": 32,
   "metadata": {},
   "outputs": [
    {
     "data": {
      "text/plain": [
       "100"
      ]
     },
     "execution_count": 32,
     "metadata": {},
     "output_type": "execute_result"
    }
   ],
   "source": [
    "array= [122,22,33,122,45,63,5,7,8,32,56]\n",
    "Max_Profit(array)"
   ]
  },
  {
   "cell_type": "code",
   "execution_count": 33,
   "metadata": {},
   "outputs": [
    {
     "data": {
      "text/plain": [
       "100"
      ]
     },
     "execution_count": 33,
     "metadata": {},
     "output_type": "execute_result"
    }
   ],
   "source": [
    "maxArr(array)"
   ]
  },
  {
   "cell_type": "code",
   "execution_count": 34,
   "metadata": {},
   "outputs": [
    {
     "data": {
      "text/plain": [
       "27"
      ]
     },
     "execution_count": 34,
     "metadata": {},
     "output_type": "execute_result"
    }
   ],
   "source": [
    "arr4 = [5,6,10,2,15,20,29,20,10]\n",
    "Max_Profit(arr4)"
   ]
  },
  {
   "cell_type": "code",
   "execution_count": null,
   "metadata": {},
   "outputs": [],
   "source": []
  }
 ],
 "metadata": {
  "kernelspec": {
   "display_name": "Python 3",
   "language": "python",
   "name": "python3"
  },
  "language_info": {
   "codemirror_mode": {
    "name": "ipython",
    "version": 3
   },
   "file_extension": ".py",
   "mimetype": "text/x-python",
   "name": "python",
   "nbconvert_exporter": "python",
   "pygments_lexer": "ipython3",
   "version": "3.8.5"
  }
 },
 "nbformat": 4,
 "nbformat_minor": 4
}
