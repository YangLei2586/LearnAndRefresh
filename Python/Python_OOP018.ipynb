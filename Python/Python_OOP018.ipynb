{
 "cells": [
  {
   "cell_type": "code",
   "execution_count": 1,
   "metadata": {},
   "outputs": [
    {
     "name": "stdout",
     "output_type": "stream",
     "text": [
      "18.16590212458495\n",
      "18.16590212458495\n"
     ]
    }
   ],
   "source": [
    "import pandas as pd\n",
    "import numpy as np\n",
    "#50 compute euclidean distance between two series \n",
    "p = pd.Series([1,2,3,4,5,6,7,8,9,10])\n",
    "q = pd.Series([10,9,8,7,6,5,4,3,2,1])\n",
    "print(sum((p - q)**2)**0.5)\n",
    "print(np.linalg.norm(p-q))"
   ]
  },
  {
   "cell_type": "code",
   "execution_count": 2,
   "metadata": {},
   "outputs": [
    {
     "name": "stdout",
     "output_type": "stream",
     "text": [
      "Column with highest row maxes: 2\n"
     ]
    }
   ],
   "source": [
    "#51 find column contains the highest number of row-wise maximum values\n",
    "df = pd.DataFrame(np.random.randint(1,100,40).reshape(10,-1))\n",
    "print('Column with highest row maxes:', df.apply(np.argmax, axis=1).value_counts().index[0])"
   ]
  },
  {
   "cell_type": "code",
   "execution_count": 3,
   "metadata": {},
   "outputs": [
    {
     "name": "stdout",
     "output_type": "stream",
     "text": [
      "    p   q   r   s\n",
      "a  36  93  86  72\n",
      "b  62  51  61  61\n",
      "c  58  82  39  83\n",
      "d  51  53  92  67\n",
      "e  87  88  74  55\n",
      "f  41  51  61  38\n",
      "g  92  50  16  57\n",
      "h  11  89  85  58\n",
      "i  20  46  46  45\n",
      "j  40  60  56  62\n"
     ]
    }
   ],
   "source": [
    "#52 create a new column that contains the row number of nearest column by euclidean distance\n",
    "df = pd.DataFrame(np.random.randint(1,100,40).reshape(10,-1), columns=list('pqrs'), index=list('abcdefghij'))\n",
    "print(df)"
   ]
  },
  {
   "cell_type": "code",
   "execution_count": 6,
   "metadata": {},
   "outputs": [
    {
     "name": "stdout",
     "output_type": "stream",
     "text": [
      "    0   1   2   3   4\n",
      "0   0   1   2   3   4\n",
      "1   5   6   7   8   9\n",
      "2  10  11  12  13  14\n",
      "3  15  16  17  18  19\n",
      "4  20  21  22  23  24\n"
     ]
    }
   ],
   "source": [
    "#53 swap two rows of a dataframe\n",
    "df = pd.DataFrame(np.arange(25).reshape(5,-1))\n",
    "print(df)"
   ]
  },
  {
   "cell_type": "code",
   "execution_count": 13,
   "metadata": {},
   "outputs": [],
   "source": [
    "def swap_rows(df,i1,i2):\n",
    "    a, b = df.iloc[i1,:].copy(), df.iloc[i2,:].copy()\n",
    "    df.iloc[i1,:], df.iloc[i2,:] = b, a \n",
    "    return df"
   ]
  },
  {
   "cell_type": "code",
   "execution_count": 14,
   "metadata": {},
   "outputs": [
    {
     "name": "stdout",
     "output_type": "stream",
     "text": [
      "    0   1   2   3   4\n",
      "0   0   1   2   3   4\n",
      "1  10  11  12  13  14\n",
      "2   5   6   7   8   9\n",
      "3  15  16  17  18  19\n",
      "4  20  21  22  23  24\n"
     ]
    }
   ],
   "source": [
    "print(swap_rows(df, 1, 2))"
   ]
  },
  {
   "cell_type": "code",
   "execution_count": 16,
   "metadata": {},
   "outputs": [
    {
     "name": "stdout",
     "output_type": "stream",
     "text": [
      "    0   1   2   3   4\n",
      "0   0   1   2   3   4\n",
      "1   5   6   7   8   9\n",
      "2  10  11  12  13  14\n",
      "3  15  16  17  18  19\n",
      "4  20  21  22  23  24\n",
      "5  25  26  27  28  29\n"
     ]
    }
   ],
   "source": [
    "#54 swap columns of a dataframe \n",
    "df = pd.DataFrame(np.arange(30).reshape(6,-1))\n",
    "print(df)"
   ]
  },
  {
   "cell_type": "code",
   "execution_count": 18,
   "metadata": {},
   "outputs": [],
   "source": [
    "def swap_column(df,i1,i2):\n",
    "    a, b = df.iloc[:,i1].copy(), df.iloc[:,i2].copy()\n",
    "    df.iloc[:,i1], df.iloc[:,i2] = b, a\n",
    "    return df"
   ]
  },
  {
   "cell_type": "code",
   "execution_count": 19,
   "metadata": {},
   "outputs": [
    {
     "name": "stdout",
     "output_type": "stream",
     "text": [
      "    0   1   2   3   4\n",
      "0   0   1   3   2   4\n",
      "1   5   6   8   7   9\n",
      "2  10  11  13  12  14\n",
      "3  15  16  18  17  19\n",
      "4  20  21  23  22  24\n",
      "5  25  26  28  27  29\n"
     ]
    }
   ],
   "source": [
    "print(swap_column(df,2,3))"
   ]
  },
  {
   "cell_type": "code",
   "execution_count": 24,
   "metadata": {},
   "outputs": [
    {
     "name": "stdout",
     "output_type": "stream",
     "text": [
      "    p   q   r   s   t   u   v   w   x   y\n",
      "a  89  58  79   3  50   4  46  43  89  62\n",
      "b  58   6  11  21  62  99  79  31  40  78\n",
      "c  48  99  16  23  36   3  13  86  10  12\n",
      "d  93  63  94  38  69  85  85  28  87  11\n",
      "e  94  44  98  78  82  26  42  10  95  80\n",
      "f  32   9  37   5  69  55  47  40  68   1\n",
      "g  86  41  17  10  80  99  49  80  62  54\n",
      "h  15  24  87  96   8  49  16  11  10   3\n",
      "          p         q         r         s         t         u         v  \\\n",
      "p  1.000000  0.345903  0.254398 -0.231235  0.701412  0.066479  0.516227   \n",
      "q  0.345903  1.000000  0.085852 -0.082631 -0.134468 -0.552799 -0.318197   \n",
      "r  0.254398  0.085852  1.000000  0.616136 -0.102618 -0.291697  0.013577   \n",
      "s -0.231235 -0.082631  0.616136  1.000000 -0.396330 -0.103887 -0.327899   \n",
      "t  0.701412 -0.134468 -0.102618 -0.396330  1.000000  0.378620  0.619230   \n",
      "u  0.066479 -0.552799 -0.291697 -0.103887  0.378620  1.000000  0.675035   \n",
      "v  0.516227 -0.318197  0.013577 -0.327899  0.619230  0.675035  1.000000   \n",
      "w  0.072474  0.513234 -0.726767 -0.664878  0.083406 -0.060289 -0.231070   \n",
      "x  0.779125 -0.050855  0.465591 -0.217781  0.758300  0.039773  0.558333   \n",
      "y  0.614209 -0.160237 -0.052449 -0.086249  0.492495  0.081091  0.328717   \n",
      "\n",
      "          w         x         y  \n",
      "p  0.072474  0.779125  0.614209  \n",
      "q  0.513234 -0.050855 -0.160237  \n",
      "r -0.726767  0.465591 -0.052449  \n",
      "s -0.664878 -0.217781 -0.086249  \n",
      "t  0.083406  0.758300  0.492495  \n",
      "u -0.060289  0.039773  0.081091  \n",
      "v -0.231070  0.558333  0.328717  \n",
      "w  1.000000 -0.271583 -0.111632  \n",
      "x -0.271583  1.000000  0.416272  \n",
      "y -0.111632  0.416272  1.000000  \n",
      "          p         q         r         s         t         u         v  \\\n",
      "p  1.000000  0.345903  0.254398  0.231235  0.701412  0.066479  0.516227   \n",
      "q  0.345903  1.000000  0.085852  0.082631  0.134468  0.552799  0.318197   \n",
      "r  0.254398  0.085852  1.000000  0.616136  0.102618  0.291697  0.013577   \n",
      "s  0.231235  0.082631  0.616136  1.000000  0.396330  0.103887  0.327899   \n",
      "t  0.701412  0.134468  0.102618  0.396330  1.000000  0.378620  0.619230   \n",
      "u  0.066479  0.552799  0.291697  0.103887  0.378620  1.000000  0.675035   \n",
      "v  0.516227  0.318197  0.013577  0.327899  0.619230  0.675035  1.000000   \n",
      "w  0.072474  0.513234  0.726767  0.664878  0.083406  0.060289  0.231070   \n",
      "x  0.779125  0.050855  0.465591  0.217781  0.758300  0.039773  0.558333   \n",
      "y  0.614209  0.160237  0.052449  0.086249  0.492495  0.081091  0.328717   \n",
      "\n",
      "          w         x         y  \n",
      "p  0.072474  0.779125  0.614209  \n",
      "q  0.513234  0.050855  0.160237  \n",
      "r  0.726767  0.465591  0.052449  \n",
      "s  0.664878  0.217781  0.086249  \n",
      "t  0.083406  0.758300  0.492495  \n",
      "u  0.060289  0.039773  0.081091  \n",
      "v  0.231070  0.558333  0.328717  \n",
      "w  1.000000  0.271583  0.111632  \n",
      "x  0.271583  1.000000  0.416272  \n",
      "y  0.111632  0.416272  1.000000  \n"
     ]
    }
   ],
   "source": [
    "#55 know the maximum possible correlation value of each column against other columns\n",
    "df = pd.DataFrame(np.random.randint(1,100,80).reshape(8,-1), columns=list('pqrstuvwxy'), index=list('abcdefgh'))\n",
    "print(df)\n",
    "print(df.corr())\n",
    "print(np.abs(df.corr()))"
   ]
  },
  {
   "cell_type": "code",
   "execution_count": 22,
   "metadata": {},
   "outputs": [
    {
     "name": "stdout",
     "output_type": "stream",
     "text": [
      "Maximum Correlation possible for each column: [0.6  0.68 0.77 0.79 0.45 0.77 0.54 0.52 0.35 0.79]\n"
     ]
    }
   ],
   "source": [
    "abs_corrmat = np.abs(df.corr())\n",
    "max_corr = abs_corrmat.apply(lambda x: sorted(x)[-2])\n",
    "print('Maximum Correlation possible for each column:', np.round(max_corr.tolist(),2))"
   ]
  },
  {
   "cell_type": "code",
   "execution_count": 28,
   "metadata": {},
   "outputs": [
    {
     "name": "stdout",
     "output_type": "stream",
     "text": [
      "    0   1   2   3   4   5   6   7   8   9\n",
      "0  84  86  65  43  15  80  69  33  74  48\n",
      "1  79  80  39   6  96  48  25  72  65  53\n",
      "2  94  74  64  88  13  19  96  47  69  19\n",
      "3  70  88  77  22  85  22  59  69  76  15\n",
      "4  90  85  98  95  80  10  54  77  41   7\n",
      "5  38  60  57  29  16  27  68  76  74  42\n",
      "6  50  42  36  63  60  71  67  33  28  69\n",
      "7   8  80  87  69  43  87   2  44  34  65\n",
      "0    0.174419\n",
      "1    0.062500\n",
      "2    0.135417\n",
      "3    0.170455\n",
      "4    0.071429\n",
      "5    0.210526\n",
      "6    0.394366\n",
      "7    0.022989\n",
      "dtype: float64\n",
      "0    0.174419\n",
      "1    0.062500\n",
      "2    0.135417\n",
      "3    0.170455\n",
      "4    0.071429\n",
      "5    0.210526\n",
      "6    0.394366\n",
      "7    0.022989\n",
      "dtype: float64\n"
     ]
    }
   ],
   "source": [
    "#56 create a column containing the minimum by maximum of each row\n",
    "df = pd.DataFrame(np.random.randint(1,100,80).reshape(8,-1))\n",
    "print(df)\n",
    "# method 1 \n",
    "min_by_max = df.apply(lambda x:np.min(x)/np.max(x), axis=1)\n",
    "print(min_by_max)\n",
    "# method 2\n",
    "min_by_max2 = np.min(df, axis=1)/np.max(df, axis=1)\n",
    "print(min_by_max2)"
   ]
  },
  {
   "cell_type": "code",
   "execution_count": 32,
   "metadata": {},
   "outputs": [
    {
     "name": "stdout",
     "output_type": "stream",
     "text": [
      "    0   1   2   3   4   5   6   7   8   9\n",
      "0  81  33  64  29  31  86  30   2  43  75\n",
      "1  46  21  20  75  19  74  10  26  60   7\n",
      "2  10  58  81  49  42   9  97   3  93  50\n",
      "3  86  37  97  61  77  41  13  90  90  76\n",
      "4  72  78  21  83  59  90  69  83   2  55\n",
      "5  19  97  35  94  59  57  84  93  78  61\n",
      "6   7  36  87  27  42  89  69  55  23  52\n",
      "7  49  26  83  35  68   7  47  65  55  13\n",
      "    0   1   2   3   4   5   6   7   8   9  penultimate\n",
      "0  81  33  64  29  31  86  30   2  43  75           81\n",
      "1  46  21  20  75  19  74  10  26  60   7           74\n",
      "2  10  58  81  49  42   9  97   3  93  50           93\n",
      "3  86  37  97  61  77  41  13  90  90  76           90\n",
      "4  72  78  21  83  59  90  69  83   2  55           83\n",
      "5  19  97  35  94  59  57  84  93  78  61           94\n",
      "6   7  36  87  27  42  89  69  55  23  52           87\n",
      "7  49  26  83  35  68   7  47  65  55  13           68\n"
     ]
    }
   ],
   "source": [
    "#57 create a column that contains the penultimate value in each row\n",
    "df = pd.DataFrame(np.random.randint(1,100,80).reshape(8,-1))\n",
    "print(df)\n",
    "out = df.apply(lambda x:x.sort_values().unique()[-2],axis=1)\n",
    "df['penultimate'] = out\n",
    "print(df)"
   ]
  },
  {
   "cell_type": "code",
   "execution_count": 36,
   "metadata": {},
   "outputs": [
    {
     "name": "stdout",
     "output_type": "stream",
     "text": [
      "    0   1   2   3   4   5   6   7   8   9\n",
      "0  51  71  40  74  37  90  15  39  96  67\n",
      "1  18  57  20  68  36  15  63  36   5  79\n",
      "2  85  83   1  40  92  10  70   8  75  43\n",
      "3  72   9  29  66  22  77  60  11  36  55\n",
      "4  78  52  13  53  26  86  80  47  85  72\n",
      "5  30  97   9  91  18  83  89  80  62  44\n",
      "6  36  72  12  66  84  20  49  14  13  43\n",
      "7  17  84  39  91  16  11  17  59  34  68\n",
      "Solution Q1\n",
      "       0     1     2     3     4     5     6     7     8     9\n",
      "0  0.10  0.20  1.37  0.31 -0.15  1.09 -1.49  0.09  1.34  0.56\n",
      "1 -1.12 -0.32 -0.03 -0.04 -0.18 -0.90  0.28 -0.03 -1.36  1.39\n",
      "2  1.35  0.64 -1.35 -1.65  1.70 -1.03  0.54 -1.14  0.72 -1.10\n",
      "3  0.87 -2.09  0.60 -0.15 -0.65  0.74  0.17 -1.02 -0.44 -0.27\n",
      "4  1.09 -0.50 -0.51 -0.90 -0.52  0.98  0.91  0.41  1.02  0.91\n",
      "5 -0.68  1.16 -0.79  1.29 -0.78  0.90  1.24  1.71  0.33 -1.03\n",
      "6 -0.45  0.23 -0.58 -0.15  1.43 -0.77 -0.23 -0.90 -1.12 -1.10\n",
      "7 -1.15  0.68  1.30  1.29 -0.85 -1.01 -1.41  0.88 -0.50  0.63\n",
      "Solution Q2\n",
      "       0     1     2     3     4     5     6     7     8     9\n",
      "0  0.50  0.30  0.00  0.33  0.72  0.00  1.00  0.57  0.00  0.33\n",
      "1  0.99  0.45  0.51  0.45  0.74  0.94  0.35  0.61  1.00  0.00\n",
      "2  0.00  0.16  1.00  1.00  0.00  1.00  0.26  1.00  0.23  1.00\n",
      "3  0.19  1.00  0.28  0.49  0.92  0.16  0.39  0.96  0.66  0.67\n",
      "4  0.10  0.51  0.69  0.75  0.87  0.05  0.12  0.46  0.12  0.19\n",
      "5  0.81  0.00  0.79  0.00  0.97  0.09  0.00  0.00  0.37  0.97\n",
      "6  0.72  0.28  0.72  0.49  0.11  0.88  0.54  0.92  0.91  1.00\n",
      "7  1.00  0.15  0.03  0.00  1.00  0.99  0.97  0.29  0.68  0.31\n"
     ]
    }
   ],
   "source": [
    "#58 normalize all columns in a dataframe\n",
    "df = pd.DataFrame(np.random.randint(1,100,80).reshape(8,-1))\n",
    "print(df)\n",
    "# method 1\n",
    "out1 = df.apply(lambda x: ((x - x.mean())/x.std()).round(2))\n",
    "print('Solution Q1\\n', out1)\n",
    "# method 2 \n",
    "out2 = df.apply(lambda x: ((x.max() - x)/(x.max() - x.min())).round(2))\n",
    "print('Solution Q2\\n', out2)"
   ]
  },
  {
   "cell_type": "code",
   "execution_count": 37,
   "metadata": {},
   "outputs": [
    {
     "data": {
      "text/plain": [
       "[-0.4, -0.05, 0.01, 0.39, 0.05, -0.22, 0.22]"
      ]
     },
     "execution_count": 37,
     "metadata": {},
     "output_type": "execute_result"
    }
   ],
   "source": [
    "#59 compute the correlation of each row with the suceeding row\n",
    "df = pd.DataFrame(np.random.randint(1,100,80).reshape(8,-1))\n",
    "[df.iloc[i].corr(df.iloc[i+1]).round(2) for i in range(df.shape[0])[:-1]]"
   ]
  },
  {
   "cell_type": "code",
   "execution_count": 43,
   "metadata": {},
   "outputs": [
    {
     "name": "stdout",
     "output_type": "stream",
     "text": [
      "(10, 10)\n",
      "10\n"
     ]
    }
   ],
   "source": [
    "#60 replace both the diagonals of dataframe with 0\n",
    "df = pd.DataFrame(np.random.randint(1,100,100).reshape(10,-1))\n",
    "print(df.shape)\n",
    "print(df.shape[0])\n",
    "for i in range(df.shape[0]):\n",
    "    df.iat[i,i] = 0\n",
    "    df.iat[df.shape[0]-i-1,i]=0"
   ]
  },
  {
   "cell_type": "code",
   "execution_count": 46,
   "metadata": {},
   "outputs": [
    {
     "name": "stdout",
     "output_type": "stream",
     "text": [
      "     col1      col2  col3\n",
      "0   apple  0.337969     4\n",
      "1  banana  0.569298    13\n",
      "2  orange  0.575938    13\n",
      "3   apple  0.648766    14\n",
      "4  banana  0.665071     1\n",
      "5  orange  0.264159     4\n",
      "6   apple  0.642607     8\n",
      "7  banana  0.917803     9\n",
      "8  orange  0.247395     5\n",
      "<pandas.core.groupby.generic.DataFrameGroupBy object at 0x000001B1088A4CD0>\n",
      "    col1      col2  col3\n",
      "0  apple  0.337969     4\n",
      "3  apple  0.648766    14\n",
      "6  apple  0.642607     8\n"
     ]
    }
   ],
   "source": [
    "#61 get the particular group of a groupby dataframe by key\n",
    "df = pd.DataFrame({'col1':['apple','banana','orange']*3,\n",
    "                   'col2':np.random.rand(9),\n",
    "                   'col3':np.random.randint(0,15,9)})\n",
    "print(df)\n",
    "df_grouped = df.groupby(['col1'])\n",
    "print(df_grouped)\n",
    "# method 1\n",
    "df_grouped.get_group('apple')\n",
    "# method 2\n",
    "for i, dff in df_grouped:\n",
    "    if i == 'apple':\n",
    "        print(dff)"
   ]
  },
  {
   "cell_type": "code",
   "execution_count": 48,
   "metadata": {},
   "outputs": [
    {
     "name": "stdout",
     "output_type": "stream",
     "text": [
      "    fruit     taste  price\n",
      "0   apple  0.142906     11\n",
      "1  banana  0.378350      4\n",
      "2  orange  0.505760     10\n",
      "3   apple  0.815316      0\n",
      "4  banana  0.515564      5\n",
      "5  orange  0.412515      3\n",
      "6   apple  0.825909     10\n",
      "7  banana  0.062201     14\n",
      "8  orange  0.043353      9\n"
     ]
    },
    {
     "data": {
      "text/plain": [
       "0.37835035941616824"
      ]
     },
     "execution_count": 48,
     "metadata": {},
     "output_type": "execute_result"
    }
   ],
   "source": [
    "#62 get the n'th largest value of a column when grouped by another column: find second largest value of taste for banana\n",
    "df = pd.DataFrame({'fruit':['apple','banana','orange']*3,\n",
    "                   'taste':np.random.rand(9),\n",
    "                   'price':np.random.randint(0,15,9)})\n",
    "print(df)\n",
    "df_grpd = df['taste'].groupby(df.fruit)\n",
    "df_grpd.get_group('banana').sort_values().iloc[-2]"
   ]
  },
  {
   "cell_type": "code",
   "execution_count": null,
   "metadata": {},
   "outputs": [],
   "source": []
  }
 ],
 "metadata": {
  "kernelspec": {
   "display_name": "Python 3",
   "language": "python",
   "name": "python3"
  },
  "language_info": {
   "codemirror_mode": {
    "name": "ipython",
    "version": 3
   },
   "file_extension": ".py",
   "mimetype": "text/x-python",
   "name": "python",
   "nbconvert_exporter": "python",
   "pygments_lexer": "ipython3",
   "version": "3.8.5"
  }
 },
 "nbformat": 4,
 "nbformat_minor": 4
}
