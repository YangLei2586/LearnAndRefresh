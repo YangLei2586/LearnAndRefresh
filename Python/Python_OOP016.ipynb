{
 "cells": [
  {
   "cell_type": "code",
   "execution_count": null,
   "metadata": {},
   "outputs": [],
   "source": [
    "import pandas as pd\n",
    "import numpy as np\n",
    "print(pd.show_versions(as_json=True))"
   ]
  },
  {
   "cell_type": "code",
   "execution_count": null,
   "metadata": {},
   "outputs": [],
   "source": [
    "#01 create pandas series from list, numpy array and dictionary\n",
    "mylist = list('abcdefjklmnoeqeustlstxzy')\n",
    "myarr = np.arange(28)\n",
    "mydict = dict(zip(mylist, myarr))\n",
    "\n",
    "ser1 = pd.Series(mylist)\n",
    "print(ser1.head())\n",
    "ser2 = pd.Series(myarr)\n",
    "print(ser2)\n",
    "ser3 = pd.Series(mydict)\n",
    "print(ser3.head())"
   ]
  },
  {
   "cell_type": "code",
   "execution_count": null,
   "metadata": {},
   "outputs": [],
   "source": [
    "#02 convert the index of a series into a column of a dateframe\n",
    "mylist2 = list('abcdefjklmnoeqeustlstxzyxxxxccc')\n",
    "myarr2 = np.arange(28)\n",
    "mydict2 = dict(zip(mylist2, myarr2))\n",
    "ser = pd.Series(mydict2)\n",
    "\n",
    "df2 = ser.to_frame().reset_index()\n",
    "print(df2.head())"
   ]
  },
  {
   "cell_type": "code",
   "execution_count": null,
   "metadata": {},
   "outputs": [],
   "source": [
    "#03 combine many series to form a dataframe\n",
    "# method 1\n",
    "ser1 = pd.Series(list('abcdefjklmnoeqeustlstxzyxxxxccc'))\n",
    "ser2 = pd.Series(np.arange(28))\n",
    "df3 = pd.concat([ser1, ser2], axis=1)\n",
    "print(df3.head())\n",
    "# method 2\n",
    "df33 = pd.DataFrame({'col1':ser1,'col2':ser2})\n",
    "print(df33.head())"
   ]
  },
  {
   "cell_type": "code",
   "execution_count": null,
   "metadata": {},
   "outputs": [],
   "source": [
    "#04 assign name to the series index\n",
    "ser3 = pd.Series(list('abcdefjklmnoeqeustlstxzyxxxxccc'))\n",
    "ser3.name = 'alphabets'\n",
    "ser3.head()"
   ]
  },
  {
   "cell_type": "code",
   "execution_count": null,
   "metadata": {},
   "outputs": [],
   "source": [
    "#05 get the items of series A not present in series B\n",
    "serA = pd.Series([1,2,3,4,5])\n",
    "serB = pd.Series([4,5,6,7,8])\n",
    "print(serA[~serA.isin(serB)])\n",
    "print(serB[~serB.isin(serA)])"
   ]
  },
  {
   "cell_type": "code",
   "execution_count": null,
   "metadata": {},
   "outputs": [],
   "source": [
    "#06 get the items not common to both series A and series B\n",
    "serA = pd.Series([1,2,3,4,5])\n",
    "serB = pd.Series([4,5,6,7,8])\n",
    "\n",
    "ser_u = pd.Series(np.union1d(serA, serB))     # Union\n",
    "ser_i = pd.Series(np.intersect1d(serA, serB)) #Intersect \n",
    "ser_u[~ser_u.isin(ser_i)]"
   ]
  },
  {
   "cell_type": "code",
   "execution_count": null,
   "metadata": {},
   "outputs": [],
   "source": [
    "#07 get the minimum, 25th percentile, median, 75th and max of a numeric series\n",
    "state = np.random.RandomState(100)\n",
    "ser = pd.Series(state.normal(10,5,25))\n",
    "\n",
    "np.percentile(ser, q=[0,25, 50, 75,100])"
   ]
  },
  {
   "cell_type": "code",
   "execution_count": null,
   "metadata": {},
   "outputs": [],
   "source": [
    "#08 get the frequency counts of unique items of a series\n",
    "ser = pd.Series(np.take(list('abcdefgh'), np.random.randint(8,size=30)))\n",
    "ser.value_counts()"
   ]
  },
  {
   "cell_type": "code",
   "execution_count": null,
   "metadata": {},
   "outputs": [],
   "source": [
    "#09 keep only top 2 most frequent values as it is and replace everything else as 'other'\n",
    "np.random.RandomState(100)\n",
    "ser = pd.Series(np.random.randint(1,5,[12]))\n",
    "print(ser)\n",
    "print(ser.value_counts)\n",
    "print(\"Top 2 Freq:\", ser.value_counts())\n",
    "ser[~ser.isin(ser.value_counts().index[:2])] = 'other'\n",
    "ser"
   ]
  },
  {
   "cell_type": "code",
   "execution_count": null,
   "metadata": {},
   "outputs": [],
   "source": [
    "#10 bin a numeric series to 10 groups of equal size\n",
    "ser = pd.Series(np.random.random(20))\n",
    "print(ser.head())\n",
    "pd.qcut(ser, q=[0,0.10,0.20,0.30,0.40,0.50,0.60,0.70,0.80,0.90,1],\n",
    "        labels=['1st','2nd','3rd','4th','5th','6th','7th','8th','9th','10th']).head()"
   ]
  },
  {
   "cell_type": "code",
   "execution_count": null,
   "metadata": {},
   "outputs": [],
   "source": [
    "#11 convert a numpy array to a dataframe of given shape> reshape a series into a dataframe with 7 rows and 5 columns\n",
    "ser = pd.Series(np.random.randint(1,10,35))\n",
    "df = pd.DataFrame(ser.values.reshape(7,5))\n",
    "print(df)"
   ]
  },
  {
   "cell_type": "code",
   "execution_count": null,
   "metadata": {},
   "outputs": [],
   "source": [
    "#12 find the positions of numbers that are multiples of 3 from a series\n",
    "ser11 = pd.Series(np.random.randint(1,10,7))\n",
    "ser11\n",
    "print(ser11)\n",
    "np.argwhere(ser11 %3==0)"
   ]
  },
  {
   "cell_type": "code",
   "execution_count": 34,
   "metadata": {},
   "outputs": [
    {
     "data": {
      "text/plain": [
       "0    8\n",
       "4    8\n",
       "6    6\n",
       "dtype: int32"
      ]
     },
     "execution_count": 34,
     "metadata": {},
     "output_type": "execute_result"
    }
   ],
   "source": [
    "#13 extract items at given positions from a series \n",
    "ser12 = pd.Series(list('abcdefghijklmnopqrstuvwxyz'))\n",
    "pos = [0, 4, 6]\n",
    "ser.take(pos)"
   ]
  },
  {
   "cell_type": "code",
   "execution_count": 36,
   "metadata": {},
   "outputs": [
    {
     "name": "stdout",
     "output_type": "stream",
     "text": [
      "0    0\n",
      "1    1\n",
      "2    2\n",
      "3    3\n",
      "4    4\n",
      "0    a\n",
      "1    b\n",
      "2    c\n",
      "3    d\n",
      "4    e\n",
      "dtype: object\n",
      "   0  1\n",
      "0  0  a\n",
      "1  1  b\n",
      "2  2  c\n",
      "3  3  d\n",
      "4  4  e\n"
     ]
    }
   ],
   "source": [
    "#14 stack two series vertically and horizontally\n",
    "ser1 = pd.Series(range(5))\n",
    "ser2 = pd.Series(list('abcde'))\n",
    "print(ser1.append(ser2))              # vertically\n",
    "df = pd.concat([ser1,ser2],axis=1)    # horizontally\n",
    "print(df)"
   ]
  },
  {
   "cell_type": "code",
   "execution_count": 38,
   "metadata": {},
   "outputs": [
    {
     "name": "stdout",
     "output_type": "stream",
     "text": [
      "[5, 4, 0, 8]\n",
      "[5, 4, 0, 8]\n"
     ]
    }
   ],
   "source": [
    "#15 get the positions of items of series A in another series B\n",
    "ser1 = pd.Series([10,9,6,5,3,1,12,8,13])\n",
    "ser2 = pd.Series([1,3,10,13])\n",
    "# method 1\n",
    "print([np.where(i==ser1)[0].tolist()[0] for i in ser2])\n",
    "# mehtod 2\n",
    "print([pd.Index(ser1).get_loc(i) for i in ser2])"
   ]
  },
  {
   "cell_type": "code",
   "execution_count": 39,
   "metadata": {},
   "outputs": [
    {
     "data": {
      "text/plain": [
       "0.29721678126088025"
      ]
     },
     "execution_count": 39,
     "metadata": {},
     "output_type": "execute_result"
    }
   ],
   "source": [
    "#16 compute the mean squared error on a truth and predicted series\n",
    "truth = pd.Series(range(10))\n",
    "pred = pd.Series(range(10)) + np.random.random(10)\n",
    "np.mean((truth - pred)**2)"
   ]
  },
  {
   "cell_type": "code",
   "execution_count": 42,
   "metadata": {},
   "outputs": [
    {
     "data": {
      "text/plain": [
       "0       Im\n",
       "1      The\n",
       "2     Best\n",
       "3       Of\n",
       "4     Best\n",
       "5       In\n",
       "6      The\n",
       "7    Whole\n",
       "8     Damn\n",
       "9      Usa\n",
       "dtype: object"
      ]
     },
     "execution_count": 42,
     "metadata": {},
     "output_type": "execute_result"
    }
   ],
   "source": [
    "#17 convert the first character of each element in a series to upercase\n",
    "ser = pd.Series(['im','the','best','of','best','in','the','whole','damn','usa'])\n",
    "# method 1\n",
    "ser.map(lambda x: x.title())\n",
    "# method 2\n",
    "ser.map(lambda x: x[0].upper() + x[1:])\n",
    "# method 3\n",
    "pd.Series([i.title() for i in ser])"
   ]
  },
  {
   "cell_type": "code",
   "execution_count": 43,
   "metadata": {},
   "outputs": [
    {
     "data": {
      "text/plain": [
       "0    2\n",
       "1    3\n",
       "2    4\n",
       "3    2\n",
       "4    4\n",
       "5    2\n",
       "6    3\n",
       "7    5\n",
       "8    4\n",
       "9    3\n",
       "dtype: int64"
      ]
     },
     "execution_count": 43,
     "metadata": {},
     "output_type": "execute_result"
    }
   ],
   "source": [
    "#18 calcualte the number of characters in each word in a series\n",
    "ser = pd.Series(['im','the','best','of','best','in','the','whole','damn','usa'])\n",
    "ser.map(lambda x: len(x))"
   ]
  },
  {
   "cell_type": "code",
   "execution_count": 44,
   "metadata": {},
   "outputs": [
    {
     "name": "stdout",
     "output_type": "stream",
     "text": [
      "[nan, 2.0, 3.0, 4.0, 5.0, 6.0, 6.0, 8.0]\n",
      "[nan, nan, 1.0, 1.0, 1.0, 1.0, 0.0, 2.0]\n"
     ]
    }
   ],
   "source": [
    "#19 compute difference of differences between consequtive numbers of a series\n",
    "ser = pd.Series([1,3,6,10,15,21,27,35])\n",
    "print(ser.diff().tolist())\n",
    "print(ser.diff().diff().tolist())"
   ]
  },
  {
   "cell_type": "code",
   "execution_count": 47,
   "metadata": {},
   "outputs": [
    {
     "name": "stdout",
     "output_type": "stream",
     "text": [
      "0   2010-01-01 00:00:00\n",
      "1   2011-02-02 00:00:00\n",
      "2   2012-03-03 00:00:00\n",
      "3   2013-04-04 00:00:00\n",
      "4   2014-05-05 00:00:00\n",
      "5   2015-06-06 12:20:00\n",
      "dtype: datetime64[ns]\n"
     ]
    },
    {
     "data": {
      "text/plain": [
       "0   2010-01-01 00:00:00\n",
       "1   2011-02-02 00:00:00\n",
       "2   2012-03-03 00:00:00\n",
       "3   2013-04-04 00:00:00\n",
       "4   2014-05-05 00:00:00\n",
       "5   2015-06-06 12:20:00\n",
       "dtype: datetime64[ns]"
      ]
     },
     "execution_count": 47,
     "metadata": {},
     "output_type": "execute_result"
    }
   ],
   "source": [
    "#20 convert a series of date strings to a timeseries \n",
    "ser = pd.Series(['01 Jan 2010', '02-02-2011', '20120303', '2013/04/04', '2014-05-05', '2015-06-06T12:20'])\n",
    "# method 1\n",
    "print(pd.to_datetime(ser))\n",
    "# method2 \n",
    "from dateutil.parser import parse\n",
    "ser.map(lambda x: parse(x))"
   ]
  },
  {
   "cell_type": "code",
   "execution_count": 53,
   "metadata": {},
   "outputs": [
    {
     "name": "stdout",
     "output_type": "stream",
     "text": [
      "Date: [1, 2, 3, 4, 5, 6]\n",
      "Week number: [53, 5, 9, 14, 19, 23]\n",
      "Day number of year: [1, 33, 63, 94, 125, 157]\n",
      "Day of week: [4, 2, 5, 3, 0, 5]\n"
     ]
    },
    {
     "name": "stderr",
     "output_type": "stream",
     "text": [
      "<ipython-input-53-3ae94832a89e>:9: FutureWarning: Series.dt.weekofyear and Series.dt.week have been deprecated.  Please use Series.dt.isocalendar().week instead.\n",
      "  print(\"Week number:\", ser_ts.dt.weekofyear.tolist())\n"
     ]
    }
   ],
   "source": [
    "#21 get the day of month, week number, day of year and day of week from a series of date strings\n",
    "ser = pd.Series(['01 Jan 2010', '02-02-2011', '20120303', '2013/04/04', '2014-05-05', '2015-06-06T12:20'])\n",
    "\n",
    "from dateutil.parser import parse\n",
    "ser_ts = ser.map(lambda x: parse(x))\n",
    "# day of month\n",
    "print(\"Date:\", ser_ts.dt.day.tolist())\n",
    "# week number\n",
    "print(\"Week number:\", ser_ts.dt.weekofyear.tolist())\n",
    "# day of year\n",
    "print(\"Day number of year:\", ser_ts.dt.dayofyear.tolist())\n",
    "# day of week\n",
    "print(\"Day of week:\", ser_ts.dt.dayofweek.tolist())"
   ]
  },
  {
   "cell_type": "code",
   "execution_count": 58,
   "metadata": {},
   "outputs": [
    {
     "data": {
      "text/plain": [
       "['2010-01-04', '2011-02-04', '2012-03-04']"
      ]
     },
     "execution_count": 58,
     "metadata": {},
     "output_type": "execute_result"
    }
   ],
   "source": [
    "#22 convert year-month string to dates corresponding to the 4th day of the month\n",
    "ser = pd.Series(['Jan 2010','Feb 2011','Mar 2012'])\n",
    "# method 1\n",
    "from dateutil.parser import parse\n",
    "ser.map(lambda x:parse('04'+ x))\n",
    "# method 2\n",
    "ser_ts = ser.map(lambda x:parse(x))\n",
    "# construct date string with date as 4\n",
    "ser_datestr = ser_ts.dt.year.astype('str') + '-' + ser_ts.dt.month.astype('str') + '-' + '04'\n",
    "# format it\n",
    "[parse(i).strftime('%Y-%m-%d') for i in ser_datestr]"
   ]
  },
  {
   "cell_type": "code",
   "execution_count": 60,
   "metadata": {},
   "outputs": [
    {
     "data": {
      "text/plain": [
       "0     Apple\n",
       "1    Orange\n",
       "4     Money\n",
       "5     Women\n",
       "dtype: object"
      ]
     },
     "execution_count": 60,
     "metadata": {},
     "output_type": "execute_result"
    }
   ],
   "source": [
    "#23 filter words that contain atleast 2 vowels from a series \n",
    "ser = pd.Series(['Apple','Orange','Plan','Python','Money','Women'])\n",
    "from collections import Counter\n",
    "mask = ser.map(lambda x: sum([Counter(x.lower()).get(i,0) for i in list('aeiou')]) >=2)\n",
    "ser[mask]"
   ]
  },
  {
   "cell_type": "code",
   "execution_count": 61,
   "metadata": {},
   "outputs": [
    {
     "data": {
      "text/plain": [
       "1    rameses@egypt.com\n",
       "2            matt@t.co\n",
       "3    narendra@modi.com\n",
       "dtype: object"
      ]
     },
     "execution_count": 61,
     "metadata": {},
     "output_type": "execute_result"
    }
   ],
   "source": [
    "#24 filter valid emails from a series \n",
    "emails = pd.Series(['buying books at amazom.com', 'rameses@egypt.com', 'matt@t.co', 'narendra@modi.com'])\n",
    "\n",
    "# method 1 as series of strings\n",
    "import re\n",
    "pattern = '[A-Za-z0-9._%+-]+@[A-Za-z0-9.-]+\\\\.[A-Za-z]{2,4}' # {2,4} meaning?\n",
    "mask = emails.map(lambda x: bool(re.match(pattern, x)))\n",
    "emails[mask]"
   ]
  },
  {
   "cell_type": "code",
   "execution_count": 62,
   "metadata": {},
   "outputs": [
    {
     "data": {
      "text/plain": [
       "0                     []\n",
       "1    [rameses@egypt.com]\n",
       "2            [matt@t.co]\n",
       "3    [narendra@modi.com]\n",
       "dtype: object"
      ]
     },
     "execution_count": 62,
     "metadata": {},
     "output_type": "execute_result"
    }
   ],
   "source": [
    "# method 2 as series of list\n",
    "emails.str.findall(pattern,flags=re.IGNORECASE)"
   ]
  },
  {
   "cell_type": "code",
   "execution_count": 63,
   "metadata": {},
   "outputs": [
    {
     "data": {
      "text/plain": [
       "['rameses@egypt.com', 'matt@t.co', 'narendra@modi.com']"
      ]
     },
     "execution_count": 63,
     "metadata": {},
     "output_type": "execute_result"
    }
   ],
   "source": [
    "# method 3 as list\n",
    "[x[0] for x in [re.findall(pattern, email) for email in emails] if len(x)>0]"
   ]
  },
  {
   "cell_type": "code",
   "execution_count": 65,
   "metadata": {},
   "outputs": [
    {
     "name": "stdout",
     "output_type": "stream",
     "text": [
      "[1.0, 2.0, 3.0, 4.0, 5.0, 6.0, 7.0, 8.0, 9.0, 10.0]\n",
      "['banana', 'carrot', 'carrot', 'apple', 'apple', 'apple', 'apple', 'banana', 'banana', 'apple']\n"
     ]
    }
   ],
   "source": [
    "#25 get the mean of a series grouped by another series> compute the mean of weights of each fruit\n",
    "fruit = pd.Series(np.random.choice(['apple','banana','carrot'],10))\n",
    "weight = pd.Series(np.linspace(1,10,10))\n",
    "print(weight.tolist())\n",
    "print(fruit.tolist())"
   ]
  },
  {
   "cell_type": "code",
   "execution_count": 66,
   "metadata": {},
   "outputs": [
    {
     "data": {
      "text/plain": [
       "apple     6.4\n",
       "banana    6.0\n",
       "carrot    2.5\n",
       "dtype: float64"
      ]
     },
     "execution_count": 66,
     "metadata": {},
     "output_type": "execute_result"
    }
   ],
   "source": [
    "weight.groupby(fruit).mean()"
   ]
  }
 ],
 "metadata": {
  "kernelspec": {
   "display_name": "Python 3",
   "language": "python",
   "name": "python3"
  },
  "language_info": {
   "codemirror_mode": {
    "name": "ipython",
    "version": 3
   },
   "file_extension": ".py",
   "mimetype": "text/x-python",
   "name": "python",
   "nbconvert_exporter": "python",
   "pygments_lexer": "ipython3",
   "version": "3.8.5"
  }
 },
 "nbformat": 4,
 "nbformat_minor": 4
}
