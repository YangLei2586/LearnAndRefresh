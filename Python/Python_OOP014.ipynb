{
 "cells": [
  {
   "cell_type": "code",
   "execution_count": 3,
   "metadata": {},
   "outputs": [
    {
     "name": "stdout",
     "output_type": "stream",
     "text": [
      "[[[  9  72 125]\n",
      "  [ 10  73 126]\n",
      "  [ 11  74 127]\n",
      "  ...\n",
      "  [ 44 104 154]\n",
      "  [ 43 104 152]\n",
      "  [ 42 103 147]]\n",
      "\n",
      " [[ 10  73 126]\n",
      "  [ 11  74 127]\n",
      "  [ 11  74 127]\n",
      "  ...\n",
      "  [ 45 105 155]\n",
      "  [ 45 106 154]\n",
      "  [ 46 107 152]]\n",
      "\n",
      " [[ 11  73 127]\n",
      "  [ 12  74 128]\n",
      "  [ 12  75 128]\n",
      "  ...\n",
      "  [ 47 107 157]\n",
      "  [ 46 107 156]\n",
      "  [ 46 106 155]]\n",
      "\n",
      " ...\n",
      "\n",
      " [[ 35  50  59]\n",
      "  [ 31  52  66]\n",
      "  [ 19  36  47]\n",
      "  ...\n",
      "  [ 20  52  67]\n",
      "  [ 26  57  78]\n",
      "  [ 26  59  83]]\n",
      "\n",
      " [[ 31  52  64]\n",
      "  [ 33  62  78]\n",
      "  [ 37  56  72]\n",
      "  ...\n",
      "  [ 21  49  62]\n",
      "  [ 24  50  68]\n",
      "  [ 21  48  66]]\n",
      "\n",
      " [[ 23  51  65]\n",
      "  [ 26  60  79]\n",
      "  [ 28  58  75]\n",
      "  ...\n",
      "  [ 17  64  92]\n",
      "  [ 25  67  97]\n",
      "  [ 21  56  83]]]\n"
     ]
    }
   ],
   "source": [
    "#53 convert a PIL image to numpy array and convert it back \n",
    "import numpy as np \n",
    "from io import BytesIO\n",
    "from PIL import Image\n",
    "import PIL, requests\n",
    "url = 'https://upload.wikimedia.org/wikipedia/commons/8/8b/Denali_Mt_McKinley.jpg'\n",
    "response = requests.get(url)\n",
    "# read it as Image\n",
    "I = Image.open(BytesIO(response.content))\n",
    "# resize\n",
    "I = I.resize([150,150])\n",
    "# convert to numpy array\n",
    "arr = np.asarray(I)\n",
    "print(arr)\n",
    "# convert array back to Image and show\n",
    "im = PIL.Image.fromarray(np.uint8(arr))\n",
    "Image.Image.show(im)"
   ]
  },
  {
   "cell_type": "code",
   "execution_count": 6,
   "metadata": {},
   "outputs": [
    {
     "name": "stdout",
     "output_type": "stream",
     "text": [
      "[1. 2. 3. 5. 6. 7.]\n"
     ]
    }
   ],
   "source": [
    "#54 drop all missing values from a numpy array\n",
    "a1 = np.array([1,2,3,np.nan,5,6,7,np.nan])\n",
    "print(a1[~np.isnan(a1)])"
   ]
  },
  {
   "cell_type": "code",
   "execution_count": 8,
   "metadata": {},
   "outputs": [
    {
     "name": "stdout",
     "output_type": "stream",
     "text": [
      "6.708203932499369\n"
     ]
    }
   ],
   "source": [
    "#55 compute euclidean distance between two arrays\n",
    "a2 = np.array([1,2,3,4,5])\n",
    "a3 = np.array([4,5,6,7,8])\n",
    "dist = np.linalg.norm(a2-a3)\n",
    "print(dist)"
   ]
  },
  {
   "cell_type": "code",
   "execution_count": 9,
   "metadata": {},
   "outputs": [
    {
     "name": "stdout",
     "output_type": "stream",
     "text": [
      "[2 5]\n"
     ]
    }
   ],
   "source": [
    "#56 find all the local maxima or peaks in a 1d array\n",
    "a4 = np.array([1,3,7,1,2,6,0,1])\n",
    "doublediff = np.diff(np.sign(np.diff(a4)))\n",
    "peak_locations = np.where(doublediff== -2)[0] + 1 # 2 and 5 are the positions of peak values 7 and 6 but why == -2?\n",
    "print(peak_locations)"
   ]
  },
  {
   "cell_type": "code",
   "execution_count": 12,
   "metadata": {},
   "outputs": [
    {
     "name": "stdout",
     "output_type": "stream",
     "text": [
      "[[2 2 2]\n",
      " [2 2 2]\n",
      " [2 2 2]]\n",
      "number of dim: 2\n",
      "shape: (3, 3)\n",
      "size: 9\n"
     ]
    }
   ],
   "source": [
    "#57 subtract a 1d array from a 2d array, where each item of 1d array substracts from respective row\n",
    "a_1d = np.array([1,2,3])\n",
    "a_2d = np.array([[3,3,3],[4,4,4],[5,5,5]])\n",
    "print(a_2d - a_1d[:,None])\n",
    "print('number of dim:',a_2d.ndim)\n",
    "print('shape:', a_2d.shape)\n",
    "print('size:', a_2d.size)"
   ]
  },
  {
   "cell_type": "code",
   "execution_count": 14,
   "metadata": {},
   "outputs": [
    {
     "data": {
      "text/plain": [
       "8"
      ]
     },
     "execution_count": 14,
     "metadata": {},
     "output_type": "execute_result"
    }
   ],
   "source": [
    "#58 find the index of n'th repetition of an item in an array> find the index of 5th repetition of number 1 in x\n",
    "x = np.array([1,2,1,1,3,4,3,1,1,2,1,1,2])\n",
    "n = 5\n",
    "# method 1 list comprehension\n",
    "[i for i, v in enumerate(x) if v==1][n-1]\n",
    "# method 2 Numpy version\n",
    "np.where(x==1)[0][n-1]"
   ]
  },
  {
   "cell_type": "code",
   "execution_count": 15,
   "metadata": {},
   "outputs": [
    {
     "data": {
      "text/plain": [
       "datetime.datetime(2018, 2, 25, 22, 10, 10)"
      ]
     },
     "execution_count": 15,
     "metadata": {},
     "output_type": "execute_result"
    }
   ],
   "source": [
    "#59 convert numpy's datetime64 object to datetime's datetime object\n",
    "dt64 = np.datetime64('2018-02-25 22:10:10')\n",
    "from datetime import datetime\n",
    "dt64.tolist()"
   ]
  },
  {
   "cell_type": "code",
   "execution_count": 16,
   "metadata": {},
   "outputs": [
    {
     "data": {
      "text/plain": [
       "datetime.datetime(2018, 2, 25, 22, 10, 10)"
      ]
     },
     "execution_count": 16,
     "metadata": {},
     "output_type": "execute_result"
    }
   ],
   "source": [
    "dt64.astype(datetime)"
   ]
  },
  {
   "cell_type": "code",
   "execution_count": 18,
   "metadata": {},
   "outputs": [
    {
     "name": "stdout",
     "output_type": "stream",
     "text": [
      "array: [8 8 3 7 7 0 4 2 5 2]\n"
     ]
    },
    {
     "data": {
      "text/plain": [
       "array([6.33, 6.  , 5.67, 4.67, 3.67, 2.  , 3.67, 3.  ])"
      ]
     },
     "execution_count": 18,
     "metadata": {},
     "output_type": "execute_result"
    }
   ],
   "source": [
    "#60 compute the moving average of a numpy array> compute a moving average of window size 3 for a given 1d array\n",
    "np.random.seed(100)\n",
    "Z = np.random.randint(10,size=10)\n",
    "print('array:', Z)\n",
    "\n",
    "# method 1\n",
    "def moving_average(a,n=3):\n",
    "    ret = np.cumsum(a, dtype=float) # meaning?\n",
    "    ret[n:] = ret[n:] - ret[:-n]\n",
    "    return ret[n-1:]/n\n",
    "\n",
    "moving_average(Z,n=3).round(2)\n",
    "\n"
   ]
  },
  {
   "cell_type": "code",
   "execution_count": 21,
   "metadata": {},
   "outputs": [
    {
     "data": {
      "text/plain": [
       "array([ 5,  8, 11, 14, 17, 20, 23, 26, 29, 32])"
      ]
     },
     "execution_count": 21,
     "metadata": {},
     "output_type": "execute_result"
    }
   ],
   "source": [
    "#61 create a numpy array sequence given only the starting point, length and the step\n",
    "length = 10\n",
    "start = 5\n",
    "step = 3\n",
    "\n",
    "def seq(start, length, step):\n",
    "    end = start + (step*length)\n",
    "    return np.arange(start, end, step)\n",
    "\n",
    "seq(start, length, step)"
   ]
  },
  {
   "cell_type": "code",
   "execution_count": 25,
   "metadata": {},
   "outputs": [
    {
     "name": "stdout",
     "output_type": "stream",
     "text": [
      "['2018-02-01' '2018-02-03' '2018-02-05' '2018-02-07' '2018-02-09'\n",
      " '2018-02-11' '2018-02-13' '2018-02-15' '2018-02-17' '2018-02-19'\n",
      " '2018-02-21' '2018-02-23']\n",
      "['2018-02-01' '2018-02-02' '2018-02-03' '2018-02-04' '2018-02-05'\n",
      " '2018-02-06' '2018-02-07' '2018-02-08' '2018-02-09' '2018-02-10'\n",
      " '2018-02-11' '2018-02-12' '2018-02-13' '2018-02-14' '2018-02-15'\n",
      " '2018-02-16' '2018-02-17' '2018-02-18' '2018-02-19' '2018-02-20'\n",
      " '2018-02-21' '2018-02-22' '2018-02-23']\n",
      "['2018-02-01' '2018-02-02' '2018-02-03' '2018-02-04' '2018-02-05'\n",
      " '2018-02-06' '2018-02-07' '2018-02-08' '2018-02-09' '2018-02-10'\n",
      " '2018-02-11' '2018-02-12' '2018-02-13' '2018-02-14' '2018-02-15'\n",
      " '2018-02-16' '2018-02-17' '2018-02-18' '2018-02-19' '2018-02-20'\n",
      " '2018-02-21' '2018-02-22' '2018-02-23']\n"
     ]
    }
   ],
   "source": [
    "#62 fill in missing dates in an irregular series of numpy dates: non-continuous dates to continuous sequence of dates \n",
    "dates = np.arange(np.datetime64('2018-02-01'), np.datetime64('2018-02-25'),2)\n",
    "print(dates)\n",
    "# method 1\n",
    "filled_in = np.array([np.arange(date, (date + d)) for date, d in zip(dates, np.diff(dates))]).reshape(-1)\n",
    "output = np.hstack([filled_in, dates[-1]])\n",
    "print(output)\n",
    "# method 2 for loop version\n",
    "out = []\n",
    "for date, d in zip(dates, np.diff(dates)):\n",
    "    out.append(np.arange(date, (date+d)))\n",
    "\n",
    "filled_in = np.array(out).reshape(-1)\n",
    "output1 = np.hstack([filled_in, dates[-1]])\n",
    "print(output1)"
   ]
  }
 ],
 "metadata": {
  "kernelspec": {
   "display_name": "Python 3",
   "language": "python",
   "name": "python3"
  },
  "language_info": {
   "codemirror_mode": {
    "name": "ipython",
    "version": 3
   },
   "file_extension": ".py",
   "mimetype": "text/x-python",
   "name": "python",
   "nbconvert_exporter": "python",
   "pygments_lexer": "ipython3",
   "version": "3.8.5"
  }
 },
 "nbformat": 4,
 "nbformat_minor": 4
}
