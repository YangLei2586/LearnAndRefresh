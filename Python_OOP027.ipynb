{
 "cells": [
  {
   "cell_type": "code",
   "execution_count": 1,
   "metadata": {},
   "outputs": [],
   "source": [
    "# Delete Node in a linked list\n",
    "# s1\n",
    "def deleteNode(self,node):\n",
    "    node.val = node.next.val\n",
    "    node.next = node.next.next "
   ]
  },
  {
   "cell_type": "code",
   "execution_count": 2,
   "metadata": {},
   "outputs": [],
   "source": [
    "# Remove Nth node from end of list 1) remove 2) from the end \n",
    "def removeNthFromEnd1(self,head,n):\n",
    "    def index(node):\n",
    "        if not none:\n",
    "            return 0\n",
    "        i = index(node.next) + 1\n",
    "        if i > n:\n",
    "            node.next.val = node.val\n",
    "        return i \n",
    "    index(head)\n",
    "    return head.next"
   ]
  },
  {
   "cell_type": "code",
   "execution_count": 3,
   "metadata": {},
   "outputs": [],
   "source": [
    "def removeNthFromEnd2(self,head,n):\n",
    "    def remove(head):\n",
    "        if not head:\n",
    "            return 0, head\n",
    "        i, head.next = remove(head.next)    # can do like this using a function while building it?\n",
    "        return i+1, (head,head.next)[i+1 ==n]\n",
    "    return remove(head)[1]"
   ]
  },
  {
   "cell_type": "code",
   "execution_count": 4,
   "metadata": {},
   "outputs": [],
   "source": [
    "def removeNthFromEnd3(self,head,n):\n",
    "    fast = slow = head\n",
    "    for _ in range(n):\n",
    "        fast = fast.next\n",
    "    if not fast:\n",
    "        return head.next\n",
    "    while fast.next:\n",
    "        fast = fast.next\n",
    "        slow = slow.next\n",
    "    slow.next = slow.next.next\n",
    "    return head"
   ]
  },
  {
   "cell_type": "code",
   "execution_count": 6,
   "metadata": {},
   "outputs": [],
   "source": [
    "def removeNthFromEnd4(self,head,n):\n",
    "    dummy = ListNode(0)\n",
    "    dummy.next = head\n",
    "    fast = slow = dummy\n",
    "    for _ in xrange(n):\n",
    "        fast = fast.next\n",
    "    while fast and fast.next:\n",
    "        fast = fast.next\n",
    "        slow = slow.next\n",
    "    slow.next = slow.next.next\n",
    "    return dummy.next"
   ]
  },
  {
   "cell_type": "code",
   "execution_count": 7,
   "metadata": {},
   "outputs": [],
   "source": [
    "# Reverse linked list given the head of the list\n",
    "# s1\n",
    "def reverseList1(self,head):\n",
    "    pre_node = None\n",
    "    curr_node = head\n",
    "    while curr_node:\n",
    "        next_node = curr_node.next      # remember next node\n",
    "        curr_node.next = pre_node       # reverse \n",
    "        prev_node = curr_node           # used in the next iteration \n",
    "        curr_node = next_node           # move to next node\n",
    "    head = prev_node\n",
    "    return head"
   ]
  },
  {
   "cell_type": "code",
   "execution_count": 8,
   "metadata": {},
   "outputs": [],
   "source": [
    "# s2 \n",
    "def reverseList2(self,head):\n",
    "    if not head: return head\n",
    "    p,q = head,head.next \n",
    "    p.next = Node\n",
    "    \n",
    "    while q:\n",
    "        tmp,q.next = q.next,p\n",
    "        p,q = q,tmp\n",
    "    return p"
   ]
  },
  {
   "cell_type": "code",
   "execution_count": 9,
   "metadata": {},
   "outputs": [],
   "source": [
    "# s3 \n",
    "def reverseList3(self,head):\n",
    "    if not head:\n",
    "        return head\n",
    "    if not head.next:\n",
    "        return head\n",
    "    orig_head = self.reverseList(head.next)\n",
    "    head.next.next = head\n",
    "    head.next = None\n",
    "    \n",
    "    return orig_head"
   ]
  },
  {
   "cell_type": "code",
   "execution_count": 10,
   "metadata": {},
   "outputs": [],
   "source": [
    "# s4 \n",
    "def reverseList4(self,head):\n",
    "    curr = head\n",
    "    next = None\n",
    "    prev = None\n",
    "    \n",
    "    while curr != None:\n",
    "        next = curr.next\n",
    "        \n",
    "        curr.next = prev\n",
    "        \n",
    "        prev = curr\n",
    "        \n",
    "        curr = next\n",
    "    return prev"
   ]
  },
  {
   "cell_type": "code",
   "execution_count": 11,
   "metadata": {},
   "outputs": [],
   "source": [
    "#s5 \n",
    "def reverseList5(self,head):\n",
    "    new_head = None\n",
    "    while head:\n",
    "        head.next,new_head, head = new_head, head,head.next\n",
    "    return new_head"
   ]
  },
  {
   "cell_type": "code",
   "execution_count": 13,
   "metadata": {},
   "outputs": [],
   "source": [
    "# Function merge two sorted lists \n",
    "# s1 recursion \n",
    "def mergeTwoLists1(self,l1,l2):\n",
    "    if l1 is None:\n",
    "        return l2\n",
    "    elif l2 is None:\n",
    "        return l1\n",
    "    elif l1.val < l2.val:\n",
    "        l1.next = self.mergeTwoLists(l1.next,l2)\n",
    "        return l1\n",
    "    else:\n",
    "        l2.next = self.mergeTwoLists(l1,l2.next)\n",
    "        return l2"
   ]
  },
  {
   "cell_type": "code",
   "execution_count": 14,
   "metadata": {},
   "outputs": [],
   "source": [
    "# s2 iteration \n",
    "def mergeTwoLists2(self,l1,l2):\n",
    "    prehead = ListNode(-1)\n",
    "    prev = prehead\n",
    "    while l1 and l2:\n",
    "        if l1.val <= l2.val:\n",
    "            prev.next = l1\n",
    "            l1 = l1.next \n",
    "        else:\n",
    "            prev.next = l2\n",
    "            l2 = l2.next \n",
    "        prev = prev.next "
   ]
  },
  {
   "cell_type": "code",
   "execution_count": 15,
   "metadata": {},
   "outputs": [],
   "source": [
    "# s3 \n",
    "def mergeTwoLists3(self,a,b):\n",
    "    if a and b:\n",
    "        if a.val > b.val:\n",
    "            a, b = b,a\n",
    "        a.next = self.mergeTwoLists(a.next,b)\n",
    "    return a or b"
   ]
  },
  {
   "cell_type": "code",
   "execution_count": 16,
   "metadata": {},
   "outputs": [],
   "source": [
    "# s4 \n",
    "def mergeTwoList4(self,a,b):\n",
    "    if not a or b and a.val > b.val:\n",
    "        a,b = b,a\n",
    "    if a:\n",
    "        a.next = self.mergeTwoLists(a.next,b)\n",
    "    return a"
   ]
  },
  {
   "cell_type": "code",
   "execution_count": 18,
   "metadata": {},
   "outputs": [],
   "source": [
    "# Function to detect a given linked list a palindrome linked list or not\n",
    "# s1 \n",
    "def isPalindrome1(self,head):\n",
    "    vals = []\n",
    "    current_node = head\n",
    "    while current_node is not None:\n",
    "        vals.append(current_node.val)\n",
    "        current_node = current_node.next\n",
    "    return vals == vals[::-1]"
   ]
  },
  {
   "cell_type": "code",
   "execution_count": 19,
   "metadata": {},
   "outputs": [],
   "source": [
    "# s2\n",
    "def isPalindrome2(self,head):\n",
    "    self.front_pointer = head\n",
    "    \n",
    "    def recursively_check(current_node=head):\n",
    "        if current_node is not None:\n",
    "            if not recursively_check(current_node.next):\n",
    "                return False\n",
    "            if self.front_pointer.val != current_node.val:\n",
    "                return False\n",
    "            self.front_pointer = self.front_pointer.next \n",
    "        return True\n",
    "    return recursively_check()\n",
    "   "
   ]
  },
  {
   "cell_type": "code",
   "execution_count": 21,
   "metadata": {},
   "outputs": [],
   "source": [
    "# s3\n",
    "def isPalindrome3(self,head):\n",
    "    if head is None:\n",
    "        return True\n",
    "        \n",
    "    # Find the end of first half and reverse second half\n",
    "    first_half_end = self.end_of_first_half(head)\n",
    "    second_half_start = self.reverse_list(first_half_end.next)\n",
    "    \n",
    "    # Check whether or not there is a palindrome\n",
    "    result = True\n",
    "    first_position = head\n",
    "    second_position = second_half_start\n",
    "    while result and second_position is not None:\n",
    "        if first_positin.val != second_position.val:\n",
    "            result = False\n",
    "        first_position = first_position.next\n",
    "        second_position = second_position.next\n",
    "        \n",
    "    # Restore the list and return the result\n",
    "    first_half_end.next = self.reverse_list(second_half_start)\n",
    "    return result\n",
    "\n",
    "def end_of_first_half(self,head):\n",
    "    fast = head\n",
    "    slow = head\n",
    "    while fast.next is not None and fast.next.next is not None:\n",
    "        fast = fast.next.next\n",
    "        slow = slow.next\n",
    "    return slow\n",
    "\n",
    "def reverse_list(self,head):\n",
    "    previous = None\n",
    "    current = head\n",
    "    while current is not None:\n",
    "        next_node = current.next\n",
    "        current.next = previous\n",
    "        previous = current\n",
    "        current = next_node\n",
    "    return previous"
   ]
  },
  {
   "cell_type": "code",
   "execution_count": 22,
   "metadata": {},
   "outputs": [],
   "source": [
    "# s4\n",
    "def check_big_o_n(self,head):\n",
    "    # First get the middle element accordingly\n",
    "    mid,even = self.getMid(head)\n",
    "    second = mid.next\n",
    "    # If its even then ignoring the middle value\n",
    "    if not even:\n",
    "        second = second.next\n",
    "    # Reverseing the first half of the list\n",
    "    first = self.reverse(head,mid)\n",
    "    while first and second:\n",
    "        if first.val!= second.val:\n",
    "            return False\n",
    "        first = first.next\n",
    "        second = second.next\n",
    "    return True\n",
    "\n",
    "def reverse(self,head,upto):\n",
    "    prev = next = None\n",
    "    curr = head\n",
    "    while curr and prev != upto:\n",
    "        next = curr.next\n",
    "        curr.next = prev\n",
    "        prev = curr\n",
    "        curr = next\n",
    "    return prev\n",
    "\n",
    "def getMid(self,head):\n",
    "    slow = head\n",
    "    fast = head.next\n",
    "    prev = head\n",
    "    while fast and fast.next:\n",
    "        prev = slow\n",
    "        slow = slow.next\n",
    "        fast = fast.next.next\n",
    "    if not fast:return prev, False\n",
    "    return slow,True"
   ]
  },
  {
   "cell_type": "code",
   "execution_count": 23,
   "metadata": {},
   "outputs": [],
   "source": [
    "# function returns true if a cycle exists in a linked list\n",
    "def hasCycle1(self,head):\n",
    "    nodes_seen = set()\n",
    "    while head is not None:\n",
    "        if head in nodes_seen:\n",
    "            return True\n",
    "        nodes_seen.add(head)\n",
    "        head = head.next\n",
    "    return False"
   ]
  },
  {
   "cell_type": "code",
   "execution_count": null,
   "metadata": {},
   "outputs": [],
   "source": [
    "def hasCycle2(self,head):\n",
    "    if head is None:\n",
    "        return False\n",
    "    slow = head\n",
    "    fast = head.next \n",
    "    while slow != fast:\n",
    "        if fast is None or fast.next is None:\n",
    "            return False\n",
    "        slow = slow.next\n",
    "        fast = fast.next.next\n",
    "    return True "
   ]
  }
 ],
 "metadata": {
  "kernelspec": {
   "display_name": "Python 3",
   "language": "python",
   "name": "python3"
  },
  "language_info": {
   "codemirror_mode": {
    "name": "ipython",
    "version": 3
   },
   "file_extension": ".py",
   "mimetype": "text/x-python",
   "name": "python",
   "nbconvert_exporter": "python",
   "pygments_lexer": "ipython3",
   "version": "3.8.5"
  }
 },
 "nbformat": 4,
 "nbformat_minor": 4
}
